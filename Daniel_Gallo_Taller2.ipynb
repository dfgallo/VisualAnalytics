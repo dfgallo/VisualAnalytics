{
 "cells": [
  {
   "cell_type": "markdown",
   "metadata": {},
   "source": [
    "# Taller 2\n",
    "\n",
    "### Daniel Felipe Gallo R.\n",
    "### 17 de Abril, 2021"
   ]
  },
  {
   "cell_type": "markdown",
   "metadata": {},
   "source": [
    "## Dataset: Personajes de la saga Harry Potter\n",
    "\n",
    "Se extrajo del portal *Kaggle* un dataset, tipo estático, con información de los personajes de la famosa saga Harry Potter, en donde se puede extraer información sobre cada personaje que haya tenido una participación notable en los libros y/o películas. El dataset trabajado es de tipo *tabla* con atributos cualitativo-nominales y con una disponibilidad de tipo estática, ya que es producto de una historia ya escrita.\n",
    "\n",
    "## Visualización: Treemap - Casas de Harry Potter\n",
    "\n",
    "* **Abstraer ¿qué?, ¿por qué? y ¿cómo?**\n",
    "\n",
    "___¿Qué?___\n",
    "\n",
    "En el universo de Harry Potter, los personajes inician su formación académica como magos en una de las diferentes escuelas del mundo mágico ubicadas alrededor de este. Los magos y brujas nacidos en el Reino Unido, de donde es el protagonista de la saga, deberán asistir al Colegio Hogwarts de Magia y Hechicería; en este serán asignados a una de las cuatro casas donde deberan vivir y convivir con sus respectivos compañeros, estas casas son: Gryffindor, Hufflepuff, Ravenclaw y Slytherin.\n",
    "\n",
    "Adicional, los personajes cuentan con un *status de sangre* que va acorde con su ascendencia sanguínea, esto varía si su ascendencia es puramente mágica, mestiza o son descendientes de personas no mágicas (*muggles*). En el status sanguíneo también se incluye a aquellos que tienen ascendencia de seres no humanos.\n",
    "\n",
    "En el treemap presentado a continuación, el usuario podrá ver a qué casa de Hogwarts pertenece y qué tipo de *statis sanguíneo* posee cada uno de los personajes de la saga. Adicional, hay unos personajes que tienen cierta influencia en la saga que no estudiaron en Hogwarts, sino en colegios de otra parte de Europa. \n",
    "\n",
    "___¿Por qué?___\n",
    "\n",
    "El receptor puede acudir a esta visualización en caso de que este empezando a sumergirse en el universo de Harry Potter y quiera **descubrir** y darle mayor profundidad al **desarrollo** de los personajes. Esta visualización servirá como guía para **comprender** las **situaciones** que afrontan los protagonistas que incluyen amistades, enemistades, romances y rivalidades. Asimismo, servirá para **analizar** las **tendencias** que tenían las casas a la hora de seleccionar sus miembros.\n",
    "\n",
    "En caso de que el usuario quiera hacer un repaso más profundo a la visualización, bastará con hacer *doble click* en cada cuadro del treemap y así obtendrá información ampliada sobre los datos.\n",
    "\n",
    "___¿Cómo?___\n",
    "\n",
    "La información se presenta mediante un Treemap el cual no necesita interacción para una vista general, en dado caso que el usuario lo requiera podrá ampliar y desglosar los cuadros y facilitar su interpretación. En este treemap encontraran de manera descendiente las casas, los tipos de status sanguíneo y los personajes de la saga.\n",
    "\n",
    "Para una interpretación visual más rápida, cada casa en el treemap será representada por su color característico.\n",
    "\n",
    "* **Marcas y canales utilizados**\n",
    "\n",
    "___Marcas___\n",
    "\n",
    "En el treemap se muestran marcas de **Jerarquía** en donde las relaciones se muestran con contención.\n",
    "\n",
    "\n",
    "___Canales___\n",
    "\n",
    "En este treemap se evidencia un canal de **contención** en donde las marcas de los enlaces muestran relación. Por ejemplo, en la casa Slytherin no se encuentra ningún miembro nacido de *muggles* como se presenta en las otras casas, y su cantidad de  *mestizos* no es tan abundante como en las demás. \n",
    "\n",
    "\n",
    "\n",
    "* **Cumple o no cumple alguna de las reglas generales descritas**\n",
    "\n",
    "De acuerdo con las reglas generales a la hora de realizar una vis, esta visualización cumple con las siguientes reglas: \n",
    "\n",
    "-2D Justificado\n",
    "\n",
    "-Los ojos le ganan a la memoria\n",
    "\n",
    "-Resolución sobre la inmersión\n",
    "\n",
    "-Primero overview, zoom y filtro, detalles a petición\n",
    "\n",
    "-Se requiere capacidad de respuesta\n",
    "\n",
    "-Primero la función, luego la forma"
   ]
  },
  {
   "cell_type": "code",
   "execution_count": 18,
   "metadata": {},
   "outputs": [],
   "source": [
    "import pandas as pd\n",
    "import numpy as np\n",
    "import matplotlib.pyplot as plt\n",
    "import plotly.express as px"
   ]
  },
  {
   "cell_type": "code",
   "execution_count": 19,
   "metadata": {
    "scrolled": true
   },
   "outputs": [
    {
     "data": {
      "text/html": [
       "<div>\n",
       "<style scoped>\n",
       "    .dataframe tbody tr th:only-of-type {\n",
       "        vertical-align: middle;\n",
       "    }\n",
       "\n",
       "    .dataframe tbody tr th {\n",
       "        vertical-align: top;\n",
       "    }\n",
       "\n",
       "    .dataframe thead th {\n",
       "        text-align: right;\n",
       "    }\n",
       "</style>\n",
       "<table border=\"1\" class=\"dataframe\">\n",
       "  <thead>\n",
       "    <tr style=\"text-align: right;\">\n",
       "      <th></th>\n",
       "      <th>Id</th>\n",
       "      <th>Name</th>\n",
       "      <th>Gender</th>\n",
       "      <th>Job</th>\n",
       "      <th>House</th>\n",
       "      <th>Wand</th>\n",
       "      <th>Patronus</th>\n",
       "      <th>Species</th>\n",
       "      <th>Blood status</th>\n",
       "      <th>Hair colour</th>\n",
       "      <th>Eye colour</th>\n",
       "      <th>Loyalty</th>\n",
       "      <th>Skills</th>\n",
       "      <th>Birth</th>\n",
       "      <th>Death</th>\n",
       "    </tr>\n",
       "  </thead>\n",
       "  <tbody>\n",
       "    <tr>\n",
       "      <th>0</th>\n",
       "      <td>1</td>\n",
       "      <td>Harry James Potter</td>\n",
       "      <td>Male</td>\n",
       "      <td>Student</td>\n",
       "      <td>Gryffindor</td>\n",
       "      <td>11\"  Holly  phoenix feather</td>\n",
       "      <td>Stag</td>\n",
       "      <td>Human</td>\n",
       "      <td>Half-blood</td>\n",
       "      <td>Black</td>\n",
       "      <td>Bright green</td>\n",
       "      <td>Albus Dumbledore | Dumbledore's Army | Order o...</td>\n",
       "      <td>Parseltongue| Defence Against the Dark Arts | ...</td>\n",
       "      <td>31 July 1980</td>\n",
       "      <td>NaN</td>\n",
       "    </tr>\n",
       "    <tr>\n",
       "      <th>1</th>\n",
       "      <td>2</td>\n",
       "      <td>Ronald Bilius Weasley</td>\n",
       "      <td>Male</td>\n",
       "      <td>Student</td>\n",
       "      <td>Gryffindor</td>\n",
       "      <td>12\" Ash unicorn tail hair</td>\n",
       "      <td>Jack Russell terrier</td>\n",
       "      <td>Human</td>\n",
       "      <td>Pure-blood</td>\n",
       "      <td>Red</td>\n",
       "      <td>Blue</td>\n",
       "      <td>Dumbledore's Army | Order of the Phoenix | Hog...</td>\n",
       "      <td>Wizard chess | Quidditch goalkeeping</td>\n",
       "      <td>1 March 1980</td>\n",
       "      <td>NaN</td>\n",
       "    </tr>\n",
       "    <tr>\n",
       "      <th>2</th>\n",
       "      <td>3</td>\n",
       "      <td>Hermione Jean Granger</td>\n",
       "      <td>Female</td>\n",
       "      <td>Student</td>\n",
       "      <td>Gryffindor</td>\n",
       "      <td>10¾\"  vine wood dragon heartstring</td>\n",
       "      <td>Otter</td>\n",
       "      <td>Human</td>\n",
       "      <td>Muggle-born</td>\n",
       "      <td>Brown</td>\n",
       "      <td>Brown</td>\n",
       "      <td>Dumbledore's Army | Order of the Phoenix | Hog...</td>\n",
       "      <td>Almost everything</td>\n",
       "      <td>19 September, 1979</td>\n",
       "      <td>NaN</td>\n",
       "    </tr>\n",
       "    <tr>\n",
       "      <th>3</th>\n",
       "      <td>4</td>\n",
       "      <td>Albus Percival Wulfric Brian Dumbledore</td>\n",
       "      <td>Male</td>\n",
       "      <td>Headmaster</td>\n",
       "      <td>Gryffindor</td>\n",
       "      <td>15\" Elder Thestral tail hair core</td>\n",
       "      <td>Phoenix</td>\n",
       "      <td>Human</td>\n",
       "      <td>Half-blood</td>\n",
       "      <td>Silver| formerly auburn</td>\n",
       "      <td>Blue</td>\n",
       "      <td>Dumbledore's Army | Order of the Phoenix | Hog...</td>\n",
       "      <td>Considered by many to be one of the most power...</td>\n",
       "      <td>Late August 1881</td>\n",
       "      <td>30 June, 1997</td>\n",
       "    </tr>\n",
       "    <tr>\n",
       "      <th>4</th>\n",
       "      <td>5</td>\n",
       "      <td>Rubeus Hagrid</td>\n",
       "      <td>Male</td>\n",
       "      <td>Keeper of Keys and Grounds | Professor of Care...</td>\n",
       "      <td>Gryffindor</td>\n",
       "      <td>16\"  Oak unknown core</td>\n",
       "      <td>None</td>\n",
       "      <td>Half-Human/Half-Giant</td>\n",
       "      <td>Part-Human (Half-giant)</td>\n",
       "      <td>Black</td>\n",
       "      <td>Black</td>\n",
       "      <td>Albus Dumbledore | Order of the Phoenix | Hogw...</td>\n",
       "      <td>Resistant to stunning spells| above average st...</td>\n",
       "      <td>6 December 1928</td>\n",
       "      <td>NaN</td>\n",
       "    </tr>\n",
       "    <tr>\n",
       "      <th>...</th>\n",
       "      <td>...</td>\n",
       "      <td>...</td>\n",
       "      <td>...</td>\n",
       "      <td>...</td>\n",
       "      <td>...</td>\n",
       "      <td>...</td>\n",
       "      <td>...</td>\n",
       "      <td>...</td>\n",
       "      <td>...</td>\n",
       "      <td>...</td>\n",
       "      <td>...</td>\n",
       "      <td>...</td>\n",
       "      <td>...</td>\n",
       "      <td>...</td>\n",
       "      <td>...</td>\n",
       "    </tr>\n",
       "    <tr>\n",
       "      <th>135</th>\n",
       "      <td>136</td>\n",
       "      <td>Wilhelmina Grubbly-Plank</td>\n",
       "      <td>Female</td>\n",
       "      <td>Substitute professor of Care of Magical Creatu...</td>\n",
       "      <td>NaN</td>\n",
       "      <td>Unknown</td>\n",
       "      <td>Non-corporeal</td>\n",
       "      <td>Human</td>\n",
       "      <td>NaN</td>\n",
       "      <td>Grey</td>\n",
       "      <td>NaN</td>\n",
       "      <td>Hogwarts School of Witchcraft and Wizardry</td>\n",
       "      <td>NaN</td>\n",
       "      <td>NaN</td>\n",
       "      <td>NaN</td>\n",
       "    </tr>\n",
       "    <tr>\n",
       "      <th>136</th>\n",
       "      <td>137</td>\n",
       "      <td>Fenrir Greyback</td>\n",
       "      <td>Male</td>\n",
       "      <td>NaN</td>\n",
       "      <td>NaN</td>\n",
       "      <td>Unknown</td>\n",
       "      <td>None</td>\n",
       "      <td>Werewolf</td>\n",
       "      <td>NaN</td>\n",
       "      <td>Grey</td>\n",
       "      <td>NaN</td>\n",
       "      <td>Lord Voldemort  | Death Eaters</td>\n",
       "      <td>Physical combat</td>\n",
       "      <td>Pre 1945</td>\n",
       "      <td>NaN</td>\n",
       "    </tr>\n",
       "    <tr>\n",
       "      <th>137</th>\n",
       "      <td>138</td>\n",
       "      <td>Gellert Grindelwald</td>\n",
       "      <td>Male</td>\n",
       "      <td>Revolutionary leader(c. 1920s[6] – 1945)</td>\n",
       "      <td>NaN</td>\n",
       "      <td>15\", Elder, Thestral tail hair core</td>\n",
       "      <td>NaN</td>\n",
       "      <td>Human</td>\n",
       "      <td>Pure-blood or half-blood</td>\n",
       "      <td>Blond</td>\n",
       "      <td>Blue</td>\n",
       "      <td>Gellert Grindelwald's Acolytes</td>\n",
       "      <td>Duelling</td>\n",
       "      <td>1883</td>\n",
       "      <td>March, 1998</td>\n",
       "    </tr>\n",
       "    <tr>\n",
       "      <th>138</th>\n",
       "      <td>139</td>\n",
       "      <td>Dobby</td>\n",
       "      <td>Male</td>\n",
       "      <td>Malfoy family's house-elf (? - 1993),\\nHogwart...</td>\n",
       "      <td>NaN</td>\n",
       "      <td>NaN</td>\n",
       "      <td>NaN</td>\n",
       "      <td>House elf</td>\n",
       "      <td>NaN</td>\n",
       "      <td>Green</td>\n",
       "      <td>NaN</td>\n",
       "      <td>NaN</td>\n",
       "      <td>A type of magic specific to house-elves, perfo...</td>\n",
       "      <td>28 June</td>\n",
       "      <td>Late March, 1998</td>\n",
       "    </tr>\n",
       "    <tr>\n",
       "      <th>139</th>\n",
       "      <td>140</td>\n",
       "      <td>Kreacher</td>\n",
       "      <td>Male</td>\n",
       "      <td>\\nBlack family's house-elf (?-1996), \\nHarry P...</td>\n",
       "      <td>NaN</td>\n",
       "      <td>NaN</td>\n",
       "      <td>NaN</td>\n",
       "      <td>House elf</td>\n",
       "      <td>NaN</td>\n",
       "      <td>White</td>\n",
       "      <td>NaN</td>\n",
       "      <td>NaN</td>\n",
       "      <td>Magic performed without a wand which includes ...</td>\n",
       "      <td>NaN</td>\n",
       "      <td>NaN</td>\n",
       "    </tr>\n",
       "  </tbody>\n",
       "</table>\n",
       "<p>140 rows × 15 columns</p>\n",
       "</div>"
      ],
      "text/plain": [
       "      Id                                     Name  Gender  \\\n",
       "0      1                       Harry James Potter    Male   \n",
       "1      2                    Ronald Bilius Weasley    Male   \n",
       "2      3                    Hermione Jean Granger  Female   \n",
       "3      4  Albus Percival Wulfric Brian Dumbledore    Male   \n",
       "4      5                            Rubeus Hagrid    Male   \n",
       "..   ...                                      ...     ...   \n",
       "135  136                 Wilhelmina Grubbly-Plank  Female   \n",
       "136  137                          Fenrir Greyback    Male   \n",
       "137  138                      Gellert Grindelwald    Male   \n",
       "138  139                                    Dobby    Male   \n",
       "139  140                                 Kreacher    Male   \n",
       "\n",
       "                                                   Job       House  \\\n",
       "0                                              Student  Gryffindor   \n",
       "1                                              Student  Gryffindor   \n",
       "2                                              Student  Gryffindor   \n",
       "3                                           Headmaster  Gryffindor   \n",
       "4    Keeper of Keys and Grounds | Professor of Care...  Gryffindor   \n",
       "..                                                 ...         ...   \n",
       "135  Substitute professor of Care of Magical Creatu...         NaN   \n",
       "136                                                NaN         NaN   \n",
       "137           Revolutionary leader(c. 1920s[6] – 1945)         NaN   \n",
       "138  Malfoy family's house-elf (? - 1993),\\nHogwart...         NaN   \n",
       "139  \\nBlack family's house-elf (?-1996), \\nHarry P...         NaN   \n",
       "\n",
       "                                    Wand              Patronus  \\\n",
       "0            11\"  Holly  phoenix feather                  Stag   \n",
       "1             12\" Ash unicorn tail hair   Jack Russell terrier   \n",
       "2     10¾\"  vine wood dragon heartstring                 Otter   \n",
       "3      15\" Elder Thestral tail hair core               Phoenix   \n",
       "4                  16\"  Oak unknown core                  None   \n",
       "..                                   ...                   ...   \n",
       "135                              Unknown         Non-corporeal   \n",
       "136                              Unknown                  None   \n",
       "137  15\", Elder, Thestral tail hair core                   NaN   \n",
       "138                                  NaN                   NaN   \n",
       "139                                  NaN                   NaN   \n",
       "\n",
       "                   Species              Blood status              Hair colour  \\\n",
       "0                    Human                Half-blood                    Black   \n",
       "1                    Human                Pure-blood                      Red   \n",
       "2                    Human               Muggle-born                    Brown   \n",
       "3                    Human                Half-blood  Silver| formerly auburn   \n",
       "4    Half-Human/Half-Giant   Part-Human (Half-giant)                    Black   \n",
       "..                     ...                       ...                      ...   \n",
       "135                 Human                        NaN                     Grey   \n",
       "136               Werewolf                       NaN                     Grey   \n",
       "137                 Human   Pure-blood or half-blood                    Blond   \n",
       "138              House elf                       NaN                    Green   \n",
       "139              House elf                       NaN                    White   \n",
       "\n",
       "       Eye colour                                            Loyalty  \\\n",
       "0    Bright green  Albus Dumbledore | Dumbledore's Army | Order o...   \n",
       "1            Blue  Dumbledore's Army | Order of the Phoenix | Hog...   \n",
       "2           Brown  Dumbledore's Army | Order of the Phoenix | Hog...   \n",
       "3            Blue  Dumbledore's Army | Order of the Phoenix | Hog...   \n",
       "4           Black  Albus Dumbledore | Order of the Phoenix | Hogw...   \n",
       "..            ...                                                ...   \n",
       "135           NaN         Hogwarts School of Witchcraft and Wizardry   \n",
       "136           NaN                     Lord Voldemort  | Death Eaters   \n",
       "137          Blue                     Gellert Grindelwald's Acolytes   \n",
       "138           NaN                                                NaN   \n",
       "139           NaN                                                NaN   \n",
       "\n",
       "                                                Skills               Birth  \\\n",
       "0    Parseltongue| Defence Against the Dark Arts | ...        31 July 1980   \n",
       "1                 Wizard chess | Quidditch goalkeeping        1 March 1980   \n",
       "2                                    Almost everything  19 September, 1979   \n",
       "3    Considered by many to be one of the most power...    Late August 1881   \n",
       "4    Resistant to stunning spells| above average st...     6 December 1928   \n",
       "..                                                 ...                 ...   \n",
       "135                                                NaN                 NaN   \n",
       "136                                    Physical combat            Pre 1945   \n",
       "137                                           Duelling                1883   \n",
       "138  A type of magic specific to house-elves, perfo...             28 June   \n",
       "139  Magic performed without a wand which includes ...                 NaN   \n",
       "\n",
       "                Death  \n",
       "0                 NaN  \n",
       "1                 NaN  \n",
       "2                 NaN  \n",
       "3      30 June, 1997   \n",
       "4                 NaN  \n",
       "..                ...  \n",
       "135               NaN  \n",
       "136               NaN  \n",
       "137       March, 1998  \n",
       "138  Late March, 1998  \n",
       "139               NaN  \n",
       "\n",
       "[140 rows x 15 columns]"
      ]
     },
     "execution_count": 19,
     "metadata": {},
     "output_type": "execute_result"
    }
   ],
   "source": [
    "df=pd.read_excel('personajes.xlsx')\n",
    "df"
   ]
  },
  {
   "cell_type": "code",
   "execution_count": 20,
   "metadata": {},
   "outputs": [
    {
     "data": {
      "text/html": [
       "<div>\n",
       "<style scoped>\n",
       "    .dataframe tbody tr th:only-of-type {\n",
       "        vertical-align: middle;\n",
       "    }\n",
       "\n",
       "    .dataframe tbody tr th {\n",
       "        vertical-align: top;\n",
       "    }\n",
       "\n",
       "    .dataframe thead th {\n",
       "        text-align: right;\n",
       "    }\n",
       "</style>\n",
       "<table border=\"1\" class=\"dataframe\">\n",
       "  <thead>\n",
       "    <tr style=\"text-align: right;\">\n",
       "      <th></th>\n",
       "      <th>Name</th>\n",
       "      <th>House</th>\n",
       "      <th>Blood status</th>\n",
       "    </tr>\n",
       "  </thead>\n",
       "  <tbody>\n",
       "    <tr>\n",
       "      <th>0</th>\n",
       "      <td>Harry James Potter</td>\n",
       "      <td>Gryffindor</td>\n",
       "      <td>Half-blood</td>\n",
       "    </tr>\n",
       "    <tr>\n",
       "      <th>1</th>\n",
       "      <td>Ronald Bilius Weasley</td>\n",
       "      <td>Gryffindor</td>\n",
       "      <td>Pure-blood</td>\n",
       "    </tr>\n",
       "    <tr>\n",
       "      <th>2</th>\n",
       "      <td>Hermione Jean Granger</td>\n",
       "      <td>Gryffindor</td>\n",
       "      <td>Muggle-born</td>\n",
       "    </tr>\n",
       "    <tr>\n",
       "      <th>3</th>\n",
       "      <td>Albus Percival Wulfric Brian Dumbledore</td>\n",
       "      <td>Gryffindor</td>\n",
       "      <td>Half-blood</td>\n",
       "    </tr>\n",
       "    <tr>\n",
       "      <th>4</th>\n",
       "      <td>Rubeus Hagrid</td>\n",
       "      <td>Gryffindor</td>\n",
       "      <td>Part-Human (Half-giant)</td>\n",
       "    </tr>\n",
       "    <tr>\n",
       "      <th>...</th>\n",
       "      <td>...</td>\n",
       "      <td>...</td>\n",
       "      <td>...</td>\n",
       "    </tr>\n",
       "    <tr>\n",
       "      <th>135</th>\n",
       "      <td>Wilhelmina Grubbly-Plank</td>\n",
       "      <td>NaN</td>\n",
       "      <td>NaN</td>\n",
       "    </tr>\n",
       "    <tr>\n",
       "      <th>136</th>\n",
       "      <td>Fenrir Greyback</td>\n",
       "      <td>NaN</td>\n",
       "      <td>NaN</td>\n",
       "    </tr>\n",
       "    <tr>\n",
       "      <th>137</th>\n",
       "      <td>Gellert Grindelwald</td>\n",
       "      <td>NaN</td>\n",
       "      <td>Pure-blood or half-blood</td>\n",
       "    </tr>\n",
       "    <tr>\n",
       "      <th>138</th>\n",
       "      <td>Dobby</td>\n",
       "      <td>NaN</td>\n",
       "      <td>NaN</td>\n",
       "    </tr>\n",
       "    <tr>\n",
       "      <th>139</th>\n",
       "      <td>Kreacher</td>\n",
       "      <td>NaN</td>\n",
       "      <td>NaN</td>\n",
       "    </tr>\n",
       "  </tbody>\n",
       "</table>\n",
       "<p>140 rows × 3 columns</p>\n",
       "</div>"
      ],
      "text/plain": [
       "                                        Name       House  \\\n",
       "0                         Harry James Potter  Gryffindor   \n",
       "1                      Ronald Bilius Weasley  Gryffindor   \n",
       "2                      Hermione Jean Granger  Gryffindor   \n",
       "3    Albus Percival Wulfric Brian Dumbledore  Gryffindor   \n",
       "4                              Rubeus Hagrid  Gryffindor   \n",
       "..                                       ...         ...   \n",
       "135                 Wilhelmina Grubbly-Plank         NaN   \n",
       "136                          Fenrir Greyback         NaN   \n",
       "137                      Gellert Grindelwald         NaN   \n",
       "138                                    Dobby         NaN   \n",
       "139                                 Kreacher         NaN   \n",
       "\n",
       "                 Blood status  \n",
       "0                  Half-blood  \n",
       "1                  Pure-blood  \n",
       "2                 Muggle-born  \n",
       "3                  Half-blood  \n",
       "4     Part-Human (Half-giant)  \n",
       "..                        ...  \n",
       "135                       NaN  \n",
       "136                       NaN  \n",
       "137  Pure-blood or half-blood  \n",
       "138                       NaN  \n",
       "139                       NaN  \n",
       "\n",
       "[140 rows x 3 columns]"
      ]
     },
     "execution_count": 20,
     "metadata": {},
     "output_type": "execute_result"
    }
   ],
   "source": [
    "df1=df[['Name','House', 'Blood status']]\n",
    "\n",
    "df1"
   ]
  },
  {
   "cell_type": "code",
   "execution_count": 21,
   "metadata": {
    "scrolled": true
   },
   "outputs": [
    {
     "data": {
      "text/html": [
       "<div>\n",
       "<style scoped>\n",
       "    .dataframe tbody tr th:only-of-type {\n",
       "        vertical-align: middle;\n",
       "    }\n",
       "\n",
       "    .dataframe tbody tr th {\n",
       "        vertical-align: top;\n",
       "    }\n",
       "\n",
       "    .dataframe thead th {\n",
       "        text-align: right;\n",
       "    }\n",
       "</style>\n",
       "<table border=\"1\" class=\"dataframe\">\n",
       "  <thead>\n",
       "    <tr style=\"text-align: right;\">\n",
       "      <th></th>\n",
       "      <th>Name</th>\n",
       "      <th>House</th>\n",
       "      <th>Blood status</th>\n",
       "    </tr>\n",
       "  </thead>\n",
       "  <tbody>\n",
       "    <tr>\n",
       "      <th>0</th>\n",
       "      <td>Harry James Potter</td>\n",
       "      <td>Gryffindor</td>\n",
       "      <td>Half-blood</td>\n",
       "    </tr>\n",
       "    <tr>\n",
       "      <th>1</th>\n",
       "      <td>Ronald Bilius Weasley</td>\n",
       "      <td>Gryffindor</td>\n",
       "      <td>Pure-blood</td>\n",
       "    </tr>\n",
       "    <tr>\n",
       "      <th>2</th>\n",
       "      <td>Hermione Jean Granger</td>\n",
       "      <td>Gryffindor</td>\n",
       "      <td>Muggle-born</td>\n",
       "    </tr>\n",
       "    <tr>\n",
       "      <th>3</th>\n",
       "      <td>Albus Percival Wulfric Brian Dumbledore</td>\n",
       "      <td>Gryffindor</td>\n",
       "      <td>Half-blood</td>\n",
       "    </tr>\n",
       "    <tr>\n",
       "      <th>4</th>\n",
       "      <td>Rubeus Hagrid</td>\n",
       "      <td>Gryffindor</td>\n",
       "      <td>Part-Human (Half-giant)</td>\n",
       "    </tr>\n",
       "    <tr>\n",
       "      <th>...</th>\n",
       "      <td>...</td>\n",
       "      <td>...</td>\n",
       "      <td>...</td>\n",
       "    </tr>\n",
       "    <tr>\n",
       "      <th>124</th>\n",
       "      <td>Albus Severus Potter</td>\n",
       "      <td>Slytherin</td>\n",
       "      <td>Half-blood</td>\n",
       "    </tr>\n",
       "    <tr>\n",
       "      <th>125</th>\n",
       "      <td>Scorpius Hyperion Malfoy</td>\n",
       "      <td>Slytherin</td>\n",
       "      <td>Pure-blood</td>\n",
       "    </tr>\n",
       "    <tr>\n",
       "      <th>126</th>\n",
       "      <td>Edward Remus Lupin</td>\n",
       "      <td>Hufflepuff</td>\n",
       "      <td>Half-blood</td>\n",
       "    </tr>\n",
       "    <tr>\n",
       "      <th>127</th>\n",
       "      <td>James Sirius Potter</td>\n",
       "      <td>Gryffindor</td>\n",
       "      <td>Half-blood</td>\n",
       "    </tr>\n",
       "    <tr>\n",
       "      <th>128</th>\n",
       "      <td>Rose Granger-Weasley</td>\n",
       "      <td>Gryffindor</td>\n",
       "      <td>Half-blood</td>\n",
       "    </tr>\n",
       "  </tbody>\n",
       "</table>\n",
       "<p>98 rows × 3 columns</p>\n",
       "</div>"
      ],
      "text/plain": [
       "                                        Name       House  \\\n",
       "0                         Harry James Potter  Gryffindor   \n",
       "1                      Ronald Bilius Weasley  Gryffindor   \n",
       "2                      Hermione Jean Granger  Gryffindor   \n",
       "3    Albus Percival Wulfric Brian Dumbledore  Gryffindor   \n",
       "4                              Rubeus Hagrid  Gryffindor   \n",
       "..                                       ...         ...   \n",
       "124                     Albus Severus Potter   Slytherin   \n",
       "125                 Scorpius Hyperion Malfoy   Slytherin   \n",
       "126                       Edward Remus Lupin  Hufflepuff   \n",
       "127                      James Sirius Potter  Gryffindor   \n",
       "128                     Rose Granger-Weasley  Gryffindor   \n",
       "\n",
       "                Blood status  \n",
       "0                 Half-blood  \n",
       "1                 Pure-blood  \n",
       "2                Muggle-born  \n",
       "3                 Half-blood  \n",
       "4    Part-Human (Half-giant)  \n",
       "..                       ...  \n",
       "124               Half-blood  \n",
       "125               Pure-blood  \n",
       "126               Half-blood  \n",
       "127               Half-blood  \n",
       "128               Half-blood  \n",
       "\n",
       "[98 rows x 3 columns]"
      ]
     },
     "execution_count": 21,
     "metadata": {},
     "output_type": "execute_result"
    }
   ],
   "source": [
    "df2=df1.dropna()\n",
    "df2"
   ]
  },
  {
   "cell_type": "code",
   "execution_count": 22,
   "metadata": {},
   "outputs": [
    {
     "data": {
      "application/vnd.plotly.v1+json": {
       "config": {
        "plotlyServerURL": "https://plot.ly"
       },
       "data": [
        {
         "branchvalues": "total",
         "customdata": [
          [
           "Ravenclaw"
          ],
          [
           "Hufflepuff"
          ],
          [
           "Slytherin"
          ],
          [
           "Ravenclaw"
          ],
          [
           "Gryffindor"
          ],
          [
           "Slytherin"
          ],
          [
           "Hufflepuff"
          ],
          [
           "Hufflepuff"
          ],
          [
           "Hufflepuff"
          ],
          [
           "Ravenclaw"
          ],
          [
           "Beauxbatons Academy of Magic"
          ],
          [
           "Beauxbatons Academy of Magic"
          ],
          [
           "Gryffindor"
          ],
          [
           "Slytherin"
          ],
          [
           "Slytherin"
          ],
          [
           "Gryffindor"
          ],
          [
           "Gryffindor"
          ],
          [
           "Slytherin"
          ],
          [
           "Gryffindor"
          ],
          [
           "Gryffindor"
          ],
          [
           "Hufflepuff"
          ],
          [
           "Gryffindor"
          ],
          [
           "Ravenclaw"
          ],
          [
           "Gryffindor"
          ],
          [
           "Gryffindor"
          ],
          [
           "Slytherin"
          ],
          [
           "Gryffindor"
          ],
          [
           "Slytherin"
          ],
          [
           "Slytherin"
          ],
          [
           "Gryffindor"
          ],
          [
           "Gryffindor"
          ],
          [
           "Slytherin"
          ],
          [
           "Slytherin"
          ],
          [
           "Slytherin"
          ],
          [
           "Hufflepuff"
          ],
          [
           "Slytherin"
          ],
          [
           "Gryffindor"
          ],
          [
           "Slytherin"
          ],
          [
           "Ravenclaw"
          ],
          [
           "Gryffindor"
          ],
          [
           "Slytherin"
          ],
          [
           "Gryffindor"
          ],
          [
           "Gryffindor"
          ],
          [
           "Slytherin"
          ],
          [
           "Gryffindor"
          ],
          [
           "Slytherin"
          ],
          [
           "Ravenclaw"
          ],
          [
           "Gryffindor"
          ],
          [
           "Gryffindor"
          ],
          [
           "Gryffindor"
          ],
          [
           "Ravenclaw"
          ],
          [
           "Slytherin"
          ],
          [
           "Hufflepuff"
          ],
          [
           "Hufflepuff"
          ],
          [
           "Gryffindor"
          ],
          [
           "Gryffindor"
          ],
          [
           "Ravenclaw"
          ],
          [
           "Gryffindor"
          ],
          [
           "Gryffindor"
          ],
          [
           "Ravenclaw"
          ],
          [
           "Slytherin"
          ],
          [
           "Slytherin"
          ],
          [
           "Hufflepuff"
          ],
          [
           "Gryffindor"
          ],
          [
           "Ravenclaw"
          ],
          [
           "Ravenclaw"
          ],
          [
           "Hufflepuff"
          ],
          [
           "Gryffindor"
          ],
          [
           "Slytherin"
          ],
          [
           "Gryffindor"
          ],
          [
           "Ravenclaw"
          ],
          [
           "Gryffindor"
          ],
          [
           "Slytherin"
          ],
          [
           "Slytherin"
          ],
          [
           "Durmstrang Institute"
          ],
          [
           "Slytherin"
          ],
          [
           "Slytherin"
          ],
          [
           "Slytherin"
          ],
          [
           "Gryffindor"
          ],
          [
           "Gryffindor"
          ],
          [
           "Hufflepuff"
          ],
          [
           "Gryffindor"
          ],
          [
           "Gryffindor"
          ],
          [
           "Gryffindor"
          ],
          [
           "Slytherin"
          ],
          [
           "Ravenclaw"
          ],
          [
           "Gryffindor"
          ],
          [
           "Beauxbatons Academy of Magic"
          ],
          [
           "Slytherin"
          ],
          [
           "Ravenclaw"
          ],
          [
           "Ravenclaw"
          ],
          [
           "Gryffindor"
          ],
          [
           "Gryffindor"
          ],
          [
           "Ravenclaw"
          ],
          [
           "Slytherin"
          ],
          [
           "Hufflepuff"
          ],
          [
           "Ravenclaw"
          ],
          [
           "Gryffindor"
          ],
          [
           "Gryffindor"
          ],
          [
           "Hufflepuff"
          ],
          [
           "Ravenclaw"
          ],
          [
           "Slytherin"
          ],
          [
           "Gryffindor"
          ],
          [
           "Gryffindor"
          ],
          [
           "Hufflepuff"
          ],
          [
           "Ravenclaw"
          ],
          [
           "Ravenclaw"
          ],
          [
           "Ravenclaw"
          ],
          [
           "Beauxbatons Academy of Magic"
          ],
          [
           "Gryffindor"
          ],
          [
           "Gryffindor"
          ],
          [
           "Hufflepuff"
          ],
          [
           "Slytherin"
          ],
          [
           "Gryffindor"
          ],
          [
           "Ravenclaw"
          ],
          [
           "Gryffindor"
          ],
          [
           "Slytherin"
          ],
          [
           "Durmstrang Institute"
          ],
          [
           "Gryffindor"
          ],
          [
           "Hufflepuff"
          ],
          [
           "Ravenclaw"
          ],
          [
           "Slytherin"
          ],
          [
           "Beauxbatons Academy of Magic"
          ],
          [
           "Gryffindor"
          ],
          [
           "Beauxbatons Academy of Magic"
          ],
          [
           "Durmstrang Institute"
          ],
          [
           "Gryffindor"
          ],
          [
           "Hufflepuff"
          ],
          [
           "Ravenclaw"
          ],
          [
           "Slytherin"
          ]
         ],
         "domain": {
          "x": [
           0,
           1
          ],
          "y": [
           0,
           1
          ]
         },
         "hovertemplate": "labels=%{label}<br>count=%{value}<br>parent=%{parent}<br>id=%{id}<br>House=%{customdata[0]}<extra></extra>",
         "ids": [
          "Ravenclaw/Half-blood/Sybill Patricia Trelawney",
          "Hufflepuff/Half-blood/Susan Bones",
          "Slytherin/Half-blood/Severus Snape",
          "Ravenclaw/Pure-blood or half-blood/Terry Boot",
          "Gryffindor/Pure-blood/(Bill) William Arthur Weasley",
          "Slytherin/Pure-blood/Draco Malfoy",
          "Hufflepuff/Pure-blood or half-blood/Edgar Bones",
          "Hufflepuff/Half-blood/Edward Remus Lupin",
          "Hufflepuff/Pure-blood/Ernest Macmillan",
          "Ravenclaw/Part-Goblin/Filius Flitwick",
          "Beauxbatons Academy of Magic/Quarter-Veela/Fleur Isabelle Delacour",
          "Beauxbatons Academy of Magic/Quarter-Veela/Gabrielle Delacour",
          "Gryffindor/Pure-blood/Fred Weasley",
          "Slytherin/Half-blood/Dolores Jane Umbridge",
          "Slytherin/Pure-blood or half-blood/Walden Macnair",
          "Gryffindor/Pure-blood or Half-blood/Oliver Wood",
          "Gryffindor/Half-blood/Seamus Finnigan",
          "Slytherin/Pure-blood/Theodore Nott",
          "Gryffindor/Pure-blood/Frank Longbottom",
          "Gryffindor/Muggle-born/Dennis Creevey",
          "Hufflepuff/Pure-blood or half-blood/Zacharias Smith",
          "Gryffindor/Pure-blood or half-blood/Cormac McLaggen",
          "Ravenclaw/Half-blood/Anthony Goldstein",
          "Gryffindor/Muggle-born/Dean Thomas",
          "Gryffindor/Unknown/Angelina Johnson",
          "Slytherin/Pure-blood or half-blood/Amycus Carrow",
          "Gryffindor/Pure-blood or half-blood/Alicia Spinnet",
          "Slytherin/Pure-blood or half-blood/Alecto Carrow",
          "Slytherin/Half-blood/Albus Severus Potter",
          "Gryffindor/Half-blood/Albus Percival Wulfric Brian Dumbledore",
          "Gryffindor/Pure-blood/Arthur Weasley",
          "Slytherin/Pure-blood or Half-blood/Antonin Dolohov",
          "Slytherin/Pure-blood/Bellatrix Lestrange",
          "Slytherin/Pure-blood or half-blood/Bloody Baron",
          "Hufflepuff/Pure-blood/Cedric Diggory",
          "Slytherin/Pure-blood or half-blood/Augustus Rookwood",
          "Gryffindor/Pure-blood/Charles Weasley",
          "Slytherin/Pure-blood or Half-blood/Corban Yaxley",
          "Ravenclaw/Pure-blood or half-blood/Cho Chang",
          "Gryffindor/Muggle-born/Colin Creevey",
          "Slytherin/Pure-blood or half-blood/Blaise Zabini",
          "Gryffindor/Pure-blood/Sirius Black",
          "Gryffindor/Pure-blood or half-blood/Romilda Vane",
          "Slytherin/Pure-blood/Rodolphus Lestrange",
          "Gryffindor/Half-blood/Remus John Lupin",
          "Slytherin/Pure-blood/Regulus Arcturus Black",
          "Ravenclaw/Muggle-born or half-blood[/Penelope Clearwater",
          "Gryffindor/Half-blood or pure-blood/Peter Pettigrew",
          "Gryffindor/Half-blood/Rose Granger-Weasley",
          "Gryffindor/Pure-blood/Ronald Bilius Weasley",
          "Ravenclaw/Half-blood/Quirinus Quirrell",
          "Slytherin/Pure-blood/Vincent Crabbe",
          "Hufflepuff/Pure-blood or half-blood/Pomona Sprout",
          "Hufflepuff/Half-blood/Hannah Abbott",
          "Gryffindor/Pure-blood/George Weasley",
          "Gryffindor/Pure-blood/Percy Ignatius Weasley",
          "Ravenclaw/Half-blood/Gilderoy Lockhart",
          "Gryffindor/Pure-blood/Ginevra (Ginny) Molly Weasley",
          "Gryffindor/Pure-blood or half-blood/Godric Gryffindor",
          "Ravenclaw/Pure-blood or half-blood/Padma Patil",
          "Slytherin/Pure-blood or half-blood/Graham Montague",
          "Slytherin/Pure-blood/Gregory Goyle",
          "Hufflepuff/Pure-blood or half-blood/Newton Scamander",
          "Gryffindor/Pure-blood/Neville Longbottom",
          "Ravenclaw/Half-blood/Garrick Ollivander",
          "Ravenclaw/Pure-blood or half-blood/Helena Ravenclaw",
          "Hufflepuff/Pure-blood or half-blood/Helga Hufflepuff",
          "Gryffindor/Muggle-born/Hermione Jean Granger",
          "Slytherin/Pure-blood or half-blood/Horace Eugene Flaccus Slughorn",
          "Gryffindor/Half-blood/Harry James Potter",
          "Ravenclaw/Pure-blood or half-blood/Rowena Ravenclaw",
          "Gryffindor/Part-Human (Half-giant)/Rubeus Hagrid",
          "Slytherin/Pure-blood/Salazar Slytherin",
          "Slytherin/Pure-blood/Scorpius Hyperion Malfoy",
          "Durmstrang Institute/Pure-blood or half-blood/Viktor Krum",
          "Slytherin/Half-blood/Tom Marvolo Riddle",
          "Slytherin/Half-blood/Millicent Bulstrode",
          "Slytherin/Pure-blood or half-blood/Pansy Parkinson",
          "Gryffindor/Pure-blood/James Potter",
          "Gryffindor/Half-blood/James Sirius Potter",
          "Hufflepuff/Muggle-born/Justin Finch-Fletchley",
          "Gryffindor/Pure-blood/Lavender Brown",
          "Gryffindor/Pure-blood or half-blood/Lee Jordan ",
          "Gryffindor/Muggle-born/Lily J. Potter",
          "Slytherin/Pure-blood/Lucius Malfoy",
          "Ravenclaw/Pure-blood or half-blood/Luna Lovegood",
          "Gryffindor/Pure-blood or half-blood/Parvati Patil",
          "Beauxbatons Academy of Magic/Part-Human (Half-giant)/Madame Olympe Maxime",
          "Slytherin/Pure-blood or half-blood/Marcus Flint",
          "Ravenclaw/Pure-blood or half-blood/Marietta Edgecombe",
          "Ravenclaw/Half-blood/Michael Corner",
          "Gryffindor/Half-blood/Minerva McGonagall",
          "Gryffindor/Pure-blood/Molly Weasley",
          "Ravenclaw/Muggle-born/Myrtle Elizabeth Warren (Moaning Myrtle)",
          "Slytherin/Pure-blood/Narcissa Malfoy",
          "Hufflepuff/Half-blood/Nymphadora Tonks",
          "Ravenclaw/Pure-blood or half-blood/Marcus Belby",
          "Gryffindor/Pure-blood or half-blood/Katie Bell",
          "Gryffindor/Half-blood",
          "Hufflepuff/Half-blood",
          "Ravenclaw/Half-blood",
          "Slytherin/Half-blood",
          "Gryffindor/Half-blood or pure-blood",
          "Gryffindor/Muggle-born",
          "Hufflepuff/Muggle-born",
          "Ravenclaw/Muggle-born",
          "Ravenclaw/Muggle-born or half-blood[",
          "Ravenclaw/Part-Goblin",
          "Beauxbatons Academy of Magic/Part-Human (Half-giant)",
          "Gryffindor/Part-Human (Half-giant)",
          "Gryffindor/Pure-blood",
          "Hufflepuff/Pure-blood",
          "Slytherin/Pure-blood",
          "Gryffindor/Pure-blood or half-blood",
          "Ravenclaw/Pure-blood or half-blood",
          "Gryffindor/Pure-blood or Half-blood",
          "Slytherin/Pure-blood or Half-blood",
          "Durmstrang Institute/Pure-blood or half-blood",
          "Gryffindor/Pure-blood or half-blood",
          "Hufflepuff/Pure-blood or half-blood",
          "Ravenclaw/Pure-blood or half-blood",
          "Slytherin/Pure-blood or half-blood",
          "Beauxbatons Academy of Magic/Quarter-Veela",
          "Gryffindor/Unknown",
          "Beauxbatons Academy of Magic",
          "Durmstrang Institute",
          "Gryffindor",
          "Hufflepuff",
          "Ravenclaw",
          "Slytherin"
         ],
         "labels": [
          "Sybill Patricia Trelawney",
          "Susan Bones",
          "Severus Snape",
          "Terry Boot",
          "(Bill) William Arthur Weasley",
          "Draco Malfoy",
          "Edgar Bones",
          "Edward Remus Lupin",
          "Ernest Macmillan",
          "Filius Flitwick",
          "Fleur Isabelle Delacour",
          "Gabrielle Delacour",
          "Fred Weasley",
          "Dolores Jane Umbridge",
          "Walden Macnair",
          "Oliver Wood",
          "Seamus Finnigan",
          "Theodore Nott",
          "Frank Longbottom",
          "Dennis Creevey",
          "Zacharias Smith",
          "Cormac McLaggen",
          "Anthony Goldstein",
          "Dean Thomas",
          "Angelina Johnson",
          "Amycus Carrow",
          "Alicia Spinnet",
          "Alecto Carrow",
          "Albus Severus Potter",
          "Albus Percival Wulfric Brian Dumbledore",
          "Arthur Weasley",
          "Antonin Dolohov",
          "Bellatrix Lestrange",
          "Bloody Baron",
          "Cedric Diggory",
          "Augustus Rookwood",
          "Charles Weasley",
          "Corban Yaxley",
          "Cho Chang",
          "Colin Creevey",
          "Blaise Zabini",
          "Sirius Black",
          "Romilda Vane",
          "Rodolphus Lestrange",
          "Remus John Lupin",
          "Regulus Arcturus Black",
          "Penelope Clearwater",
          "Peter Pettigrew",
          "Rose Granger-Weasley",
          "Ronald Bilius Weasley",
          "Quirinus Quirrell",
          "Vincent Crabbe",
          "Pomona Sprout",
          "Hannah Abbott",
          "George Weasley",
          "Percy Ignatius Weasley",
          "Gilderoy Lockhart",
          "Ginevra (Ginny) Molly Weasley",
          "Godric Gryffindor",
          "Padma Patil",
          "Graham Montague",
          "Gregory Goyle",
          "Newton Scamander",
          "Neville Longbottom",
          "Garrick Ollivander",
          "Helena Ravenclaw",
          "Helga Hufflepuff",
          "Hermione Jean Granger",
          "Horace Eugene Flaccus Slughorn",
          "Harry James Potter",
          "Rowena Ravenclaw",
          "Rubeus Hagrid",
          "Salazar Slytherin",
          "Scorpius Hyperion Malfoy",
          "Viktor Krum",
          "Tom Marvolo Riddle",
          "Millicent Bulstrode",
          "Pansy Parkinson",
          "James Potter",
          "James Sirius Potter",
          "Justin Finch-Fletchley",
          "Lavender Brown",
          "Lee Jordan ",
          "Lily J. Potter",
          "Lucius Malfoy",
          "Luna Lovegood",
          "Parvati Patil",
          "Madame Olympe Maxime",
          "Marcus Flint",
          "Marietta Edgecombe",
          "Michael Corner",
          "Minerva McGonagall",
          "Molly Weasley",
          "Myrtle Elizabeth Warren (Moaning Myrtle)",
          "Narcissa Malfoy",
          "Nymphadora Tonks",
          "Marcus Belby",
          "Katie Bell",
          "Half-blood",
          "Half-blood",
          "Half-blood",
          "Half-blood",
          "Half-blood or pure-blood",
          "Muggle-born",
          "Muggle-born",
          "Muggle-born",
          "Muggle-born or half-blood[",
          "Part-Goblin",
          "Part-Human (Half-giant)",
          "Part-Human (Half-giant)",
          "Pure-blood",
          "Pure-blood",
          "Pure-blood",
          "Pure-blood or half-blood",
          "Pure-blood or half-blood",
          "Pure-blood or Half-blood",
          "Pure-blood or Half-blood",
          "Pure-blood or half-blood",
          "Pure-blood or half-blood",
          "Pure-blood or half-blood",
          "Pure-blood or half-blood",
          "Pure-blood or half-blood",
          "Quarter-Veela",
          "Unknown",
          "Beauxbatons Academy of Magic",
          "Durmstrang Institute",
          "Gryffindor",
          "Hufflepuff",
          "Ravenclaw",
          "Slytherin"
         ],
         "marker": {
          "colors": [
           "darkblue",
           "Gold",
           "Green",
           "darkblue",
           "DarkRed",
           "Green",
           "Gold",
           "Gold",
           "Gold",
           "darkblue",
           "#FFA15A",
           "#FFA15A",
           "DarkRed",
           "Green",
           "Green",
           "DarkRed",
           "DarkRed",
           "Green",
           "DarkRed",
           "DarkRed",
           "Gold",
           "DarkRed",
           "darkblue",
           "DarkRed",
           "DarkRed",
           "Green",
           "DarkRed",
           "Green",
           "Green",
           "DarkRed",
           "DarkRed",
           "Green",
           "Green",
           "Green",
           "Gold",
           "Green",
           "DarkRed",
           "Green",
           "darkblue",
           "DarkRed",
           "Green",
           "DarkRed",
           "DarkRed",
           "Green",
           "DarkRed",
           "Green",
           "darkblue",
           "DarkRed",
           "DarkRed",
           "DarkRed",
           "darkblue",
           "Green",
           "Gold",
           "Gold",
           "DarkRed",
           "DarkRed",
           "darkblue",
           "DarkRed",
           "DarkRed",
           "darkblue",
           "Green",
           "Green",
           "Gold",
           "DarkRed",
           "darkblue",
           "darkblue",
           "Gold",
           "DarkRed",
           "Green",
           "DarkRed",
           "darkblue",
           "DarkRed",
           "Green",
           "Green",
           "#19d3f3",
           "Green",
           "Green",
           "Green",
           "DarkRed",
           "DarkRed",
           "Gold",
           "DarkRed",
           "DarkRed",
           "DarkRed",
           "Green",
           "darkblue",
           "DarkRed",
           "#FFA15A",
           "Green",
           "darkblue",
           "darkblue",
           "DarkRed",
           "DarkRed",
           "darkblue",
           "Green",
           "Gold",
           "darkblue",
           "DarkRed",
           "DarkRed",
           "Gold",
           "darkblue",
           "Green",
           "DarkRed",
           "DarkRed",
           "Gold",
           "darkblue",
           "darkblue",
           "darkblue",
           "#FFA15A",
           "DarkRed",
           "DarkRed",
           "Gold",
           "Green",
           "DarkRed",
           "darkblue",
           "DarkRed",
           "Green",
           "#19d3f3",
           "DarkRed",
           "Gold",
           "darkblue",
           "Green",
           "#FFA15A",
           "DarkRed",
           "#FFA15A",
           "#19d3f3",
           "DarkRed",
           "Gold",
           "darkblue",
           "Green"
          ]
         },
         "name": "",
         "parents": [
          "Ravenclaw/Half-blood",
          "Hufflepuff/Half-blood",
          "Slytherin/Half-blood",
          "Ravenclaw/Pure-blood or half-blood",
          "Gryffindor/Pure-blood",
          "Slytherin/Pure-blood",
          "Hufflepuff/Pure-blood or half-blood",
          "Hufflepuff/Half-blood",
          "Hufflepuff/Pure-blood",
          "Ravenclaw/Part-Goblin",
          "Beauxbatons Academy of Magic/Quarter-Veela",
          "Beauxbatons Academy of Magic/Quarter-Veela",
          "Gryffindor/Pure-blood",
          "Slytherin/Half-blood",
          "Slytherin/Pure-blood or half-blood",
          "Gryffindor/Pure-blood or Half-blood",
          "Gryffindor/Half-blood",
          "Slytherin/Pure-blood",
          "Gryffindor/Pure-blood",
          "Gryffindor/Muggle-born",
          "Hufflepuff/Pure-blood or half-blood",
          "Gryffindor/Pure-blood or half-blood",
          "Ravenclaw/Half-blood",
          "Gryffindor/Muggle-born",
          "Gryffindor/Unknown",
          "Slytherin/Pure-blood or half-blood",
          "Gryffindor/Pure-blood or half-blood",
          "Slytherin/Pure-blood or half-blood",
          "Slytherin/Half-blood",
          "Gryffindor/Half-blood",
          "Gryffindor/Pure-blood",
          "Slytherin/Pure-blood or Half-blood",
          "Slytherin/Pure-blood",
          "Slytherin/Pure-blood or half-blood",
          "Hufflepuff/Pure-blood",
          "Slytherin/Pure-blood or half-blood",
          "Gryffindor/Pure-blood",
          "Slytherin/Pure-blood or Half-blood",
          "Ravenclaw/Pure-blood or half-blood",
          "Gryffindor/Muggle-born",
          "Slytherin/Pure-blood or half-blood",
          "Gryffindor/Pure-blood",
          "Gryffindor/Pure-blood or half-blood",
          "Slytherin/Pure-blood",
          "Gryffindor/Half-blood",
          "Slytherin/Pure-blood",
          "Ravenclaw/Muggle-born or half-blood[",
          "Gryffindor/Half-blood or pure-blood",
          "Gryffindor/Half-blood",
          "Gryffindor/Pure-blood",
          "Ravenclaw/Half-blood",
          "Slytherin/Pure-blood",
          "Hufflepuff/Pure-blood or half-blood",
          "Hufflepuff/Half-blood",
          "Gryffindor/Pure-blood",
          "Gryffindor/Pure-blood",
          "Ravenclaw/Half-blood",
          "Gryffindor/Pure-blood",
          "Gryffindor/Pure-blood or half-blood",
          "Ravenclaw/Pure-blood or half-blood",
          "Slytherin/Pure-blood or half-blood",
          "Slytherin/Pure-blood",
          "Hufflepuff/Pure-blood or half-blood",
          "Gryffindor/Pure-blood",
          "Ravenclaw/Half-blood",
          "Ravenclaw/Pure-blood or half-blood",
          "Hufflepuff/Pure-blood or half-blood",
          "Gryffindor/Muggle-born",
          "Slytherin/Pure-blood or half-blood",
          "Gryffindor/Half-blood",
          "Ravenclaw/Pure-blood or half-blood",
          "Gryffindor/Part-Human (Half-giant)",
          "Slytherin/Pure-blood",
          "Slytherin/Pure-blood",
          "Durmstrang Institute/Pure-blood or half-blood",
          "Slytherin/Half-blood",
          "Slytherin/Half-blood",
          "Slytherin/Pure-blood or half-blood",
          "Gryffindor/Pure-blood",
          "Gryffindor/Half-blood",
          "Hufflepuff/Muggle-born",
          "Gryffindor/Pure-blood",
          "Gryffindor/Pure-blood or half-blood",
          "Gryffindor/Muggle-born",
          "Slytherin/Pure-blood",
          "Ravenclaw/Pure-blood or half-blood",
          "Gryffindor/Pure-blood or half-blood",
          "Beauxbatons Academy of Magic/Part-Human (Half-giant)",
          "Slytherin/Pure-blood or half-blood",
          "Ravenclaw/Pure-blood or half-blood",
          "Ravenclaw/Half-blood",
          "Gryffindor/Half-blood",
          "Gryffindor/Pure-blood",
          "Ravenclaw/Muggle-born",
          "Slytherin/Pure-blood",
          "Hufflepuff/Half-blood",
          "Ravenclaw/Pure-blood or half-blood",
          "Gryffindor/Pure-blood or half-blood",
          "Gryffindor",
          "Hufflepuff",
          "Ravenclaw",
          "Slytherin",
          "Gryffindor",
          "Gryffindor",
          "Hufflepuff",
          "Ravenclaw",
          "Ravenclaw",
          "Ravenclaw",
          "Beauxbatons Academy of Magic",
          "Gryffindor",
          "Gryffindor",
          "Hufflepuff",
          "Slytherin",
          "Gryffindor",
          "Ravenclaw",
          "Gryffindor",
          "Slytherin",
          "Durmstrang Institute",
          "Gryffindor",
          "Hufflepuff",
          "Ravenclaw",
          "Slytherin",
          "Beauxbatons Academy of Magic",
          "Gryffindor",
          "",
          "",
          "",
          "",
          "",
          ""
         ],
         "type": "treemap",
         "values": [
          1,
          1,
          1,
          1,
          1,
          1,
          1,
          1,
          1,
          1,
          1,
          1,
          1,
          1,
          1,
          1,
          1,
          1,
          1,
          1,
          1,
          1,
          1,
          1,
          1,
          1,
          1,
          1,
          1,
          1,
          1,
          1,
          1,
          1,
          1,
          1,
          1,
          1,
          1,
          1,
          1,
          1,
          1,
          1,
          1,
          1,
          1,
          1,
          1,
          1,
          1,
          1,
          1,
          1,
          1,
          1,
          1,
          1,
          1,
          1,
          1,
          1,
          1,
          1,
          1,
          1,
          1,
          1,
          1,
          1,
          1,
          1,
          1,
          1,
          1,
          1,
          1,
          1,
          1,
          1,
          1,
          1,
          1,
          1,
          1,
          1,
          1,
          1,
          1,
          1,
          1,
          1,
          1,
          1,
          1,
          1,
          1,
          1,
          7,
          4,
          6,
          5,
          1,
          5,
          1,
          1,
          1,
          1,
          1,
          1,
          14,
          2,
          11,
          1,
          1,
          1,
          2,
          1,
          6,
          5,
          7,
          10,
          2,
          1,
          3,
          1,
          37,
          12,
          17,
          28
         ]
        }
       ],
       "layout": {
        "legend": {
         "tracegroupgap": 0
        },
        "margin": {
         "t": 60
        },
        "template": {
         "data": {
          "bar": [
           {
            "error_x": {
             "color": "#2a3f5f"
            },
            "error_y": {
             "color": "#2a3f5f"
            },
            "marker": {
             "line": {
              "color": "#E5ECF6",
              "width": 0.5
             }
            },
            "type": "bar"
           }
          ],
          "barpolar": [
           {
            "marker": {
             "line": {
              "color": "#E5ECF6",
              "width": 0.5
             }
            },
            "type": "barpolar"
           }
          ],
          "carpet": [
           {
            "aaxis": {
             "endlinecolor": "#2a3f5f",
             "gridcolor": "white",
             "linecolor": "white",
             "minorgridcolor": "white",
             "startlinecolor": "#2a3f5f"
            },
            "baxis": {
             "endlinecolor": "#2a3f5f",
             "gridcolor": "white",
             "linecolor": "white",
             "minorgridcolor": "white",
             "startlinecolor": "#2a3f5f"
            },
            "type": "carpet"
           }
          ],
          "choropleth": [
           {
            "colorbar": {
             "outlinewidth": 0,
             "ticks": ""
            },
            "type": "choropleth"
           }
          ],
          "contour": [
           {
            "colorbar": {
             "outlinewidth": 0,
             "ticks": ""
            },
            "colorscale": [
             [
              0,
              "#0d0887"
             ],
             [
              0.1111111111111111,
              "#46039f"
             ],
             [
              0.2222222222222222,
              "#7201a8"
             ],
             [
              0.3333333333333333,
              "#9c179e"
             ],
             [
              0.4444444444444444,
              "#bd3786"
             ],
             [
              0.5555555555555556,
              "#d8576b"
             ],
             [
              0.6666666666666666,
              "#ed7953"
             ],
             [
              0.7777777777777778,
              "#fb9f3a"
             ],
             [
              0.8888888888888888,
              "#fdca26"
             ],
             [
              1,
              "#f0f921"
             ]
            ],
            "type": "contour"
           }
          ],
          "contourcarpet": [
           {
            "colorbar": {
             "outlinewidth": 0,
             "ticks": ""
            },
            "type": "contourcarpet"
           }
          ],
          "heatmap": [
           {
            "colorbar": {
             "outlinewidth": 0,
             "ticks": ""
            },
            "colorscale": [
             [
              0,
              "#0d0887"
             ],
             [
              0.1111111111111111,
              "#46039f"
             ],
             [
              0.2222222222222222,
              "#7201a8"
             ],
             [
              0.3333333333333333,
              "#9c179e"
             ],
             [
              0.4444444444444444,
              "#bd3786"
             ],
             [
              0.5555555555555556,
              "#d8576b"
             ],
             [
              0.6666666666666666,
              "#ed7953"
             ],
             [
              0.7777777777777778,
              "#fb9f3a"
             ],
             [
              0.8888888888888888,
              "#fdca26"
             ],
             [
              1,
              "#f0f921"
             ]
            ],
            "type": "heatmap"
           }
          ],
          "heatmapgl": [
           {
            "colorbar": {
             "outlinewidth": 0,
             "ticks": ""
            },
            "colorscale": [
             [
              0,
              "#0d0887"
             ],
             [
              0.1111111111111111,
              "#46039f"
             ],
             [
              0.2222222222222222,
              "#7201a8"
             ],
             [
              0.3333333333333333,
              "#9c179e"
             ],
             [
              0.4444444444444444,
              "#bd3786"
             ],
             [
              0.5555555555555556,
              "#d8576b"
             ],
             [
              0.6666666666666666,
              "#ed7953"
             ],
             [
              0.7777777777777778,
              "#fb9f3a"
             ],
             [
              0.8888888888888888,
              "#fdca26"
             ],
             [
              1,
              "#f0f921"
             ]
            ],
            "type": "heatmapgl"
           }
          ],
          "histogram": [
           {
            "marker": {
             "colorbar": {
              "outlinewidth": 0,
              "ticks": ""
             }
            },
            "type": "histogram"
           }
          ],
          "histogram2d": [
           {
            "colorbar": {
             "outlinewidth": 0,
             "ticks": ""
            },
            "colorscale": [
             [
              0,
              "#0d0887"
             ],
             [
              0.1111111111111111,
              "#46039f"
             ],
             [
              0.2222222222222222,
              "#7201a8"
             ],
             [
              0.3333333333333333,
              "#9c179e"
             ],
             [
              0.4444444444444444,
              "#bd3786"
             ],
             [
              0.5555555555555556,
              "#d8576b"
             ],
             [
              0.6666666666666666,
              "#ed7953"
             ],
             [
              0.7777777777777778,
              "#fb9f3a"
             ],
             [
              0.8888888888888888,
              "#fdca26"
             ],
             [
              1,
              "#f0f921"
             ]
            ],
            "type": "histogram2d"
           }
          ],
          "histogram2dcontour": [
           {
            "colorbar": {
             "outlinewidth": 0,
             "ticks": ""
            },
            "colorscale": [
             [
              0,
              "#0d0887"
             ],
             [
              0.1111111111111111,
              "#46039f"
             ],
             [
              0.2222222222222222,
              "#7201a8"
             ],
             [
              0.3333333333333333,
              "#9c179e"
             ],
             [
              0.4444444444444444,
              "#bd3786"
             ],
             [
              0.5555555555555556,
              "#d8576b"
             ],
             [
              0.6666666666666666,
              "#ed7953"
             ],
             [
              0.7777777777777778,
              "#fb9f3a"
             ],
             [
              0.8888888888888888,
              "#fdca26"
             ],
             [
              1,
              "#f0f921"
             ]
            ],
            "type": "histogram2dcontour"
           }
          ],
          "mesh3d": [
           {
            "colorbar": {
             "outlinewidth": 0,
             "ticks": ""
            },
            "type": "mesh3d"
           }
          ],
          "parcoords": [
           {
            "line": {
             "colorbar": {
              "outlinewidth": 0,
              "ticks": ""
             }
            },
            "type": "parcoords"
           }
          ],
          "pie": [
           {
            "automargin": true,
            "type": "pie"
           }
          ],
          "scatter": [
           {
            "marker": {
             "colorbar": {
              "outlinewidth": 0,
              "ticks": ""
             }
            },
            "type": "scatter"
           }
          ],
          "scatter3d": [
           {
            "line": {
             "colorbar": {
              "outlinewidth": 0,
              "ticks": ""
             }
            },
            "marker": {
             "colorbar": {
              "outlinewidth": 0,
              "ticks": ""
             }
            },
            "type": "scatter3d"
           }
          ],
          "scattercarpet": [
           {
            "marker": {
             "colorbar": {
              "outlinewidth": 0,
              "ticks": ""
             }
            },
            "type": "scattercarpet"
           }
          ],
          "scattergeo": [
           {
            "marker": {
             "colorbar": {
              "outlinewidth": 0,
              "ticks": ""
             }
            },
            "type": "scattergeo"
           }
          ],
          "scattergl": [
           {
            "marker": {
             "colorbar": {
              "outlinewidth": 0,
              "ticks": ""
             }
            },
            "type": "scattergl"
           }
          ],
          "scattermapbox": [
           {
            "marker": {
             "colorbar": {
              "outlinewidth": 0,
              "ticks": ""
             }
            },
            "type": "scattermapbox"
           }
          ],
          "scatterpolar": [
           {
            "marker": {
             "colorbar": {
              "outlinewidth": 0,
              "ticks": ""
             }
            },
            "type": "scatterpolar"
           }
          ],
          "scatterpolargl": [
           {
            "marker": {
             "colorbar": {
              "outlinewidth": 0,
              "ticks": ""
             }
            },
            "type": "scatterpolargl"
           }
          ],
          "scatterternary": [
           {
            "marker": {
             "colorbar": {
              "outlinewidth": 0,
              "ticks": ""
             }
            },
            "type": "scatterternary"
           }
          ],
          "surface": [
           {
            "colorbar": {
             "outlinewidth": 0,
             "ticks": ""
            },
            "colorscale": [
             [
              0,
              "#0d0887"
             ],
             [
              0.1111111111111111,
              "#46039f"
             ],
             [
              0.2222222222222222,
              "#7201a8"
             ],
             [
              0.3333333333333333,
              "#9c179e"
             ],
             [
              0.4444444444444444,
              "#bd3786"
             ],
             [
              0.5555555555555556,
              "#d8576b"
             ],
             [
              0.6666666666666666,
              "#ed7953"
             ],
             [
              0.7777777777777778,
              "#fb9f3a"
             ],
             [
              0.8888888888888888,
              "#fdca26"
             ],
             [
              1,
              "#f0f921"
             ]
            ],
            "type": "surface"
           }
          ],
          "table": [
           {
            "cells": {
             "fill": {
              "color": "#EBF0F8"
             },
             "line": {
              "color": "white"
             }
            },
            "header": {
             "fill": {
              "color": "#C8D4E3"
             },
             "line": {
              "color": "white"
             }
            },
            "type": "table"
           }
          ]
         },
         "layout": {
          "annotationdefaults": {
           "arrowcolor": "#2a3f5f",
           "arrowhead": 0,
           "arrowwidth": 1
          },
          "autotypenumbers": "strict",
          "coloraxis": {
           "colorbar": {
            "outlinewidth": 0,
            "ticks": ""
           }
          },
          "colorscale": {
           "diverging": [
            [
             0,
             "#8e0152"
            ],
            [
             0.1,
             "#c51b7d"
            ],
            [
             0.2,
             "#de77ae"
            ],
            [
             0.3,
             "#f1b6da"
            ],
            [
             0.4,
             "#fde0ef"
            ],
            [
             0.5,
             "#f7f7f7"
            ],
            [
             0.6,
             "#e6f5d0"
            ],
            [
             0.7,
             "#b8e186"
            ],
            [
             0.8,
             "#7fbc41"
            ],
            [
             0.9,
             "#4d9221"
            ],
            [
             1,
             "#276419"
            ]
           ],
           "sequential": [
            [
             0,
             "#0d0887"
            ],
            [
             0.1111111111111111,
             "#46039f"
            ],
            [
             0.2222222222222222,
             "#7201a8"
            ],
            [
             0.3333333333333333,
             "#9c179e"
            ],
            [
             0.4444444444444444,
             "#bd3786"
            ],
            [
             0.5555555555555556,
             "#d8576b"
            ],
            [
             0.6666666666666666,
             "#ed7953"
            ],
            [
             0.7777777777777778,
             "#fb9f3a"
            ],
            [
             0.8888888888888888,
             "#fdca26"
            ],
            [
             1,
             "#f0f921"
            ]
           ],
           "sequentialminus": [
            [
             0,
             "#0d0887"
            ],
            [
             0.1111111111111111,
             "#46039f"
            ],
            [
             0.2222222222222222,
             "#7201a8"
            ],
            [
             0.3333333333333333,
             "#9c179e"
            ],
            [
             0.4444444444444444,
             "#bd3786"
            ],
            [
             0.5555555555555556,
             "#d8576b"
            ],
            [
             0.6666666666666666,
             "#ed7953"
            ],
            [
             0.7777777777777778,
             "#fb9f3a"
            ],
            [
             0.8888888888888888,
             "#fdca26"
            ],
            [
             1,
             "#f0f921"
            ]
           ]
          },
          "colorway": [
           "#636efa",
           "#EF553B",
           "#00cc96",
           "#ab63fa",
           "#FFA15A",
           "#19d3f3",
           "#FF6692",
           "#B6E880",
           "#FF97FF",
           "#FECB52"
          ],
          "font": {
           "color": "#2a3f5f"
          },
          "geo": {
           "bgcolor": "white",
           "lakecolor": "white",
           "landcolor": "#E5ECF6",
           "showlakes": true,
           "showland": true,
           "subunitcolor": "white"
          },
          "hoverlabel": {
           "align": "left"
          },
          "hovermode": "closest",
          "mapbox": {
           "style": "light"
          },
          "paper_bgcolor": "white",
          "plot_bgcolor": "#E5ECF6",
          "polar": {
           "angularaxis": {
            "gridcolor": "white",
            "linecolor": "white",
            "ticks": ""
           },
           "bgcolor": "#E5ECF6",
           "radialaxis": {
            "gridcolor": "white",
            "linecolor": "white",
            "ticks": ""
           }
          },
          "scene": {
           "xaxis": {
            "backgroundcolor": "#E5ECF6",
            "gridcolor": "white",
            "gridwidth": 2,
            "linecolor": "white",
            "showbackground": true,
            "ticks": "",
            "zerolinecolor": "white"
           },
           "yaxis": {
            "backgroundcolor": "#E5ECF6",
            "gridcolor": "white",
            "gridwidth": 2,
            "linecolor": "white",
            "showbackground": true,
            "ticks": "",
            "zerolinecolor": "white"
           },
           "zaxis": {
            "backgroundcolor": "#E5ECF6",
            "gridcolor": "white",
            "gridwidth": 2,
            "linecolor": "white",
            "showbackground": true,
            "ticks": "",
            "zerolinecolor": "white"
           }
          },
          "shapedefaults": {
           "line": {
            "color": "#2a3f5f"
           }
          },
          "ternary": {
           "aaxis": {
            "gridcolor": "white",
            "linecolor": "white",
            "ticks": ""
           },
           "baxis": {
            "gridcolor": "white",
            "linecolor": "white",
            "ticks": ""
           },
           "bgcolor": "#E5ECF6",
           "caxis": {
            "gridcolor": "white",
            "linecolor": "white",
            "ticks": ""
           }
          },
          "title": {
           "x": 0.05
          },
          "xaxis": {
           "automargin": true,
           "gridcolor": "white",
           "linecolor": "white",
           "ticks": "",
           "title": {
            "standoff": 15
           },
           "zerolinecolor": "white",
           "zerolinewidth": 2
          },
          "yaxis": {
           "automargin": true,
           "gridcolor": "white",
           "linecolor": "white",
           "ticks": "",
           "title": {
            "standoff": 15
           },
           "zerolinecolor": "white",
           "zerolinewidth": 2
          }
         }
        }
       }
      },
      "text/html": [
       "<div>                            <div id=\"87807461-0b89-4af6-91e9-27ef104fd09a\" class=\"plotly-graph-div\" style=\"height:525px; width:100%;\"></div>            <script type=\"text/javascript\">                require([\"plotly\"], function(Plotly) {                    window.PLOTLYENV=window.PLOTLYENV || {};                                    if (document.getElementById(\"87807461-0b89-4af6-91e9-27ef104fd09a\")) {                    Plotly.newPlot(                        \"87807461-0b89-4af6-91e9-27ef104fd09a\",                        [{\"branchvalues\": \"total\", \"customdata\": [[\"Ravenclaw\"], [\"Hufflepuff\"], [\"Slytherin\"], [\"Ravenclaw\"], [\"Gryffindor\"], [\"Slytherin\"], [\"Hufflepuff\"], [\"Hufflepuff\"], [\"Hufflepuff\"], [\"Ravenclaw\"], [\"Beauxbatons Academy of Magic\"], [\"Beauxbatons Academy of Magic\"], [\"Gryffindor\"], [\"Slytherin\"], [\"Slytherin\"], [\"Gryffindor\"], [\"Gryffindor\"], [\"Slytherin\"], [\"Gryffindor\"], [\"Gryffindor\"], [\"Hufflepuff\"], [\"Gryffindor\"], [\"Ravenclaw\"], [\"Gryffindor\"], [\"Gryffindor\"], [\"Slytherin\"], [\"Gryffindor\"], [\"Slytherin\"], [\"Slytherin\"], [\"Gryffindor\"], [\"Gryffindor\"], [\"Slytherin\"], [\"Slytherin\"], [\"Slytherin\"], [\"Hufflepuff\"], [\"Slytherin\"], [\"Gryffindor\"], [\"Slytherin\"], [\"Ravenclaw\"], [\"Gryffindor\"], [\"Slytherin\"], [\"Gryffindor\"], [\"Gryffindor\"], [\"Slytherin\"], [\"Gryffindor\"], [\"Slytherin\"], [\"Ravenclaw\"], [\"Gryffindor\"], [\"Gryffindor\"], [\"Gryffindor\"], [\"Ravenclaw\"], [\"Slytherin\"], [\"Hufflepuff\"], [\"Hufflepuff\"], [\"Gryffindor\"], [\"Gryffindor\"], [\"Ravenclaw\"], [\"Gryffindor\"], [\"Gryffindor\"], [\"Ravenclaw\"], [\"Slytherin\"], [\"Slytherin\"], [\"Hufflepuff\"], [\"Gryffindor\"], [\"Ravenclaw\"], [\"Ravenclaw\"], [\"Hufflepuff\"], [\"Gryffindor\"], [\"Slytherin\"], [\"Gryffindor\"], [\"Ravenclaw\"], [\"Gryffindor\"], [\"Slytherin\"], [\"Slytherin\"], [\"Durmstrang Institute\"], [\"Slytherin\"], [\"Slytherin\"], [\"Slytherin\"], [\"Gryffindor\"], [\"Gryffindor\"], [\"Hufflepuff\"], [\"Gryffindor\"], [\"Gryffindor\"], [\"Gryffindor\"], [\"Slytherin\"], [\"Ravenclaw\"], [\"Gryffindor\"], [\"Beauxbatons Academy of Magic\"], [\"Slytherin\"], [\"Ravenclaw\"], [\"Ravenclaw\"], [\"Gryffindor\"], [\"Gryffindor\"], [\"Ravenclaw\"], [\"Slytherin\"], [\"Hufflepuff\"], [\"Ravenclaw\"], [\"Gryffindor\"], [\"Gryffindor\"], [\"Hufflepuff\"], [\"Ravenclaw\"], [\"Slytherin\"], [\"Gryffindor\"], [\"Gryffindor\"], [\"Hufflepuff\"], [\"Ravenclaw\"], [\"Ravenclaw\"], [\"Ravenclaw\"], [\"Beauxbatons Academy of Magic\"], [\"Gryffindor\"], [\"Gryffindor\"], [\"Hufflepuff\"], [\"Slytherin\"], [\"Gryffindor\"], [\"Ravenclaw\"], [\"Gryffindor\"], [\"Slytherin\"], [\"Durmstrang Institute\"], [\"Gryffindor\"], [\"Hufflepuff\"], [\"Ravenclaw\"], [\"Slytherin\"], [\"Beauxbatons Academy of Magic\"], [\"Gryffindor\"], [\"Beauxbatons Academy of Magic\"], [\"Durmstrang Institute\"], [\"Gryffindor\"], [\"Hufflepuff\"], [\"Ravenclaw\"], [\"Slytherin\"]], \"domain\": {\"x\": [0.0, 1.0], \"y\": [0.0, 1.0]}, \"hovertemplate\": \"labels=%{label}<br>count=%{value}<br>parent=%{parent}<br>id=%{id}<br>House=%{customdata[0]}<extra></extra>\", \"ids\": [\"Ravenclaw/Half-blood/Sybill Patricia Trelawney\", \"Hufflepuff/Half-blood/Susan Bones\", \"Slytherin/Half-blood/Severus Snape\", \"Ravenclaw/Pure-blood\\u00a0or\\u00a0half-blood/Terry Boot\", \"Gryffindor/Pure-blood/(Bill) William Arthur Weasley\", \"Slytherin/Pure-blood/Draco Malfoy\", \"Hufflepuff/Pure-blood\\u00a0or\\u00a0half-blood/Edgar Bones\", \"Hufflepuff/Half-blood/Edward Remus Lupin\", \"Hufflepuff/Pure-blood/Ernest Macmillan\", \"Ravenclaw/Part-Goblin/Filius Flitwick\", \"Beauxbatons Academy of Magic/Quarter-Veela/Fleur Isabelle Delacour\", \"Beauxbatons Academy of Magic/Quarter-Veela/Gabrielle Delacour\", \"Gryffindor/Pure-blood/Fred Weasley\", \"Slytherin/Half-blood/Dolores Jane Umbridge\", \"Slytherin/Pure-blood\\u00a0or\\u00a0half-blood/Walden Macnair\", \"Gryffindor/Pure-blood\\u00a0or\\u00a0Half-blood/Oliver Wood\", \"Gryffindor/Half-blood/Seamus Finnigan\", \"Slytherin/Pure-blood/Theodore Nott\", \"Gryffindor/Pure-blood/Frank Longbottom\", \"Gryffindor/Muggle-born/Dennis Creevey\", \"Hufflepuff/Pure-blood\\u00a0or\\u00a0half-blood/Zacharias Smith\", \"Gryffindor/Pure-blood\\u00a0or\\u00a0half-blood/Cormac McLaggen\", \"Ravenclaw/Half-blood/Anthony Goldstein\", \"Gryffindor/Muggle-born/Dean Thomas\", \"Gryffindor/Unknown/Angelina Johnson\", \"Slytherin/Pure-blood\\u00a0or\\u00a0half-blood/Amycus Carrow\", \"Gryffindor/Pure-blood\\u00a0or\\u00a0half-blood/Alicia Spinnet\", \"Slytherin/Pure-blood\\u00a0or\\u00a0half-blood/Alecto Carrow\", \"Slytherin/Half-blood/Albus Severus Potter\", \"Gryffindor/Half-blood/Albus Percival Wulfric Brian Dumbledore\", \"Gryffindor/Pure-blood/Arthur Weasley\", \"Slytherin/Pure-blood\\u00a0or\\u00a0Half-blood/Antonin Dolohov\", \"Slytherin/Pure-blood/Bellatrix Lestrange\", \"Slytherin/Pure-blood\\u00a0or\\u00a0half-blood/Bloody Baron\", \"Hufflepuff/Pure-blood/Cedric Diggory\", \"Slytherin/Pure-blood\\u00a0or\\u00a0half-blood/Augustus Rookwood\", \"Gryffindor/Pure-blood/Charles Weasley\", \"Slytherin/Pure-blood\\u00a0or\\u00a0Half-blood/Corban Yaxley\", \"Ravenclaw/Pure-blood\\u00a0or\\u00a0half-blood/Cho Chang\", \"Gryffindor/Muggle-born/Colin Creevey\", \"Slytherin/Pure-blood\\u00a0or\\u00a0half-blood/Blaise Zabini\", \"Gryffindor/Pure-blood/Sirius Black\", \"Gryffindor/Pure-blood\\u00a0or\\u00a0half-blood/Romilda Vane\", \"Slytherin/Pure-blood/Rodolphus Lestrange\", \"Gryffindor/Half-blood/Remus John Lupin\", \"Slytherin/Pure-blood/Regulus Arcturus Black\", \"Ravenclaw/Muggle-born\\u00a0or\\u00a0half-blood[/Penelope Clearwater\", \"Gryffindor/Half-blood\\u00a0or\\u00a0pure-blood/Peter Pettigrew\", \"Gryffindor/Half-blood/Rose Granger-Weasley\", \"Gryffindor/Pure-blood/Ronald Bilius Weasley\", \"Ravenclaw/Half-blood/Quirinus Quirrell\", \"Slytherin/Pure-blood/Vincent Crabbe\", \"Hufflepuff/Pure-blood\\u00a0or\\u00a0half-blood/Pomona Sprout\", \"Hufflepuff/Half-blood/Hannah Abbott\", \"Gryffindor/Pure-blood/George Weasley\", \"Gryffindor/Pure-blood/Percy Ignatius Weasley\", \"Ravenclaw/Half-blood/Gilderoy Lockhart\", \"Gryffindor/Pure-blood/Ginevra (Ginny) Molly Weasley\", \"Gryffindor/Pure-blood or half-blood/Godric Gryffindor\", \"Ravenclaw/Pure-blood\\u00a0or\\u00a0half-blood/Padma Patil\", \"Slytherin/Pure-blood\\u00a0or\\u00a0half-blood/Graham Montague\", \"Slytherin/Pure-blood/Gregory Goyle\", \"Hufflepuff/Pure-blood\\u00a0or\\u00a0half-blood/Newton Scamander\", \"Gryffindor/Pure-blood/Neville Longbottom\", \"Ravenclaw/Half-blood/Garrick Ollivander\", \"Ravenclaw/Pure-blood\\u00a0or\\u00a0half-blood/Helena Ravenclaw\", \"Hufflepuff/Pure-blood\\u00a0or\\u00a0half-blood/Helga Hufflepuff\", \"Gryffindor/Muggle-born/Hermione Jean Granger\", \"Slytherin/Pure-blood\\u00a0or\\u00a0half-blood/Horace Eugene Flaccus Slughorn\", \"Gryffindor/Half-blood/Harry James Potter\", \"Ravenclaw/Pure-blood or half-blood/Rowena Ravenclaw\", \"Gryffindor/Part-Human\\u00a0(Half-giant)/Rubeus Hagrid\", \"Slytherin/Pure-blood/Salazar Slytherin\", \"Slytherin/Pure-blood/Scorpius Hyperion Malfoy\", \"Durmstrang Institute/Pure-blood\\u00a0or\\u00a0half-blood/Viktor Krum\", \"Slytherin/Half-blood/Tom Marvolo Riddle\", \"Slytherin/Half-blood/Millicent Bulstrode\", \"Slytherin/Pure-blood\\u00a0or\\u00a0half-blood/Pansy Parkinson\", \"Gryffindor/Pure-blood/James Potter\", \"Gryffindor/Half-blood/James Sirius Potter\", \"Hufflepuff/Muggle-born/Justin Finch-Fletchley\", \"Gryffindor/Pure-blood/Lavender Brown\", \"Gryffindor/Pure-blood\\u00a0or\\u00a0half-blood/Lee Jordan\\u00a0\", \"Gryffindor/Muggle-born/Lily J. Potter\", \"Slytherin/Pure-blood/Lucius Malfoy\", \"Ravenclaw/Pure-blood\\u00a0or\\u00a0half-blood/Luna Lovegood\", \"Gryffindor/Pure-blood\\u00a0or\\u00a0half-blood/Parvati Patil\", \"Beauxbatons Academy of Magic/Part-Human\\u00a0(Half-giant)/Madame Olympe Maxime\", \"Slytherin/Pure-blood\\u00a0or\\u00a0half-blood/Marcus Flint\", \"Ravenclaw/Pure-blood\\u00a0or\\u00a0half-blood/Marietta Edgecombe\", \"Ravenclaw/Half-blood/Michael Corner\", \"Gryffindor/Half-blood/Minerva McGonagall\", \"Gryffindor/Pure-blood/Molly Weasley\", \"Ravenclaw/Muggle-born/Myrtle Elizabeth Warren (Moaning Myrtle)\", \"Slytherin/Pure-blood/Narcissa Malfoy\", \"Hufflepuff/Half-blood/Nymphadora Tonks\", \"Ravenclaw/Pure-blood\\u00a0or\\u00a0half-blood/Marcus Belby\", \"Gryffindor/Pure-blood\\u00a0or\\u00a0half-blood/Katie Bell\", \"Gryffindor/Half-blood\", \"Hufflepuff/Half-blood\", \"Ravenclaw/Half-blood\", \"Slytherin/Half-blood\", \"Gryffindor/Half-blood\\u00a0or\\u00a0pure-blood\", \"Gryffindor/Muggle-born\", \"Hufflepuff/Muggle-born\", \"Ravenclaw/Muggle-born\", \"Ravenclaw/Muggle-born\\u00a0or\\u00a0half-blood[\", \"Ravenclaw/Part-Goblin\", \"Beauxbatons Academy of Magic/Part-Human\\u00a0(Half-giant)\", \"Gryffindor/Part-Human\\u00a0(Half-giant)\", \"Gryffindor/Pure-blood\", \"Hufflepuff/Pure-blood\", \"Slytherin/Pure-blood\", \"Gryffindor/Pure-blood or half-blood\", \"Ravenclaw/Pure-blood or half-blood\", \"Gryffindor/Pure-blood\\u00a0or\\u00a0Half-blood\", \"Slytherin/Pure-blood\\u00a0or\\u00a0Half-blood\", \"Durmstrang Institute/Pure-blood\\u00a0or\\u00a0half-blood\", \"Gryffindor/Pure-blood\\u00a0or\\u00a0half-blood\", \"Hufflepuff/Pure-blood\\u00a0or\\u00a0half-blood\", \"Ravenclaw/Pure-blood\\u00a0or\\u00a0half-blood\", \"Slytherin/Pure-blood\\u00a0or\\u00a0half-blood\", \"Beauxbatons Academy of Magic/Quarter-Veela\", \"Gryffindor/Unknown\", \"Beauxbatons Academy of Magic\", \"Durmstrang Institute\", \"Gryffindor\", \"Hufflepuff\", \"Ravenclaw\", \"Slytherin\"], \"labels\": [\"Sybill Patricia Trelawney\", \"Susan Bones\", \"Severus Snape\", \"Terry Boot\", \"(Bill) William Arthur Weasley\", \"Draco Malfoy\", \"Edgar Bones\", \"Edward Remus Lupin\", \"Ernest Macmillan\", \"Filius Flitwick\", \"Fleur Isabelle Delacour\", \"Gabrielle Delacour\", \"Fred Weasley\", \"Dolores Jane Umbridge\", \"Walden Macnair\", \"Oliver Wood\", \"Seamus Finnigan\", \"Theodore Nott\", \"Frank Longbottom\", \"Dennis Creevey\", \"Zacharias Smith\", \"Cormac McLaggen\", \"Anthony Goldstein\", \"Dean Thomas\", \"Angelina Johnson\", \"Amycus Carrow\", \"Alicia Spinnet\", \"Alecto Carrow\", \"Albus Severus Potter\", \"Albus Percival Wulfric Brian Dumbledore\", \"Arthur Weasley\", \"Antonin Dolohov\", \"Bellatrix Lestrange\", \"Bloody Baron\", \"Cedric Diggory\", \"Augustus Rookwood\", \"Charles Weasley\", \"Corban Yaxley\", \"Cho Chang\", \"Colin Creevey\", \"Blaise Zabini\", \"Sirius Black\", \"Romilda Vane\", \"Rodolphus Lestrange\", \"Remus John Lupin\", \"Regulus Arcturus Black\", \"Penelope Clearwater\", \"Peter Pettigrew\", \"Rose Granger-Weasley\", \"Ronald Bilius Weasley\", \"Quirinus Quirrell\", \"Vincent Crabbe\", \"Pomona Sprout\", \"Hannah Abbott\", \"George Weasley\", \"Percy Ignatius Weasley\", \"Gilderoy Lockhart\", \"Ginevra (Ginny) Molly Weasley\", \"Godric Gryffindor\", \"Padma Patil\", \"Graham Montague\", \"Gregory Goyle\", \"Newton Scamander\", \"Neville Longbottom\", \"Garrick Ollivander\", \"Helena Ravenclaw\", \"Helga Hufflepuff\", \"Hermione Jean Granger\", \"Horace Eugene Flaccus Slughorn\", \"Harry James Potter\", \"Rowena Ravenclaw\", \"Rubeus Hagrid\", \"Salazar Slytherin\", \"Scorpius Hyperion Malfoy\", \"Viktor Krum\", \"Tom Marvolo Riddle\", \"Millicent Bulstrode\", \"Pansy Parkinson\", \"James Potter\", \"James Sirius Potter\", \"Justin Finch-Fletchley\", \"Lavender Brown\", \"Lee Jordan\\u00a0\", \"Lily J. Potter\", \"Lucius Malfoy\", \"Luna Lovegood\", \"Parvati Patil\", \"Madame Olympe Maxime\", \"Marcus Flint\", \"Marietta Edgecombe\", \"Michael Corner\", \"Minerva McGonagall\", \"Molly Weasley\", \"Myrtle Elizabeth Warren (Moaning Myrtle)\", \"Narcissa Malfoy\", \"Nymphadora Tonks\", \"Marcus Belby\", \"Katie Bell\", \"Half-blood\", \"Half-blood\", \"Half-blood\", \"Half-blood\", \"Half-blood\\u00a0or\\u00a0pure-blood\", \"Muggle-born\", \"Muggle-born\", \"Muggle-born\", \"Muggle-born\\u00a0or\\u00a0half-blood[\", \"Part-Goblin\", \"Part-Human\\u00a0(Half-giant)\", \"Part-Human\\u00a0(Half-giant)\", \"Pure-blood\", \"Pure-blood\", \"Pure-blood\", \"Pure-blood or half-blood\", \"Pure-blood or half-blood\", \"Pure-blood\\u00a0or\\u00a0Half-blood\", \"Pure-blood\\u00a0or\\u00a0Half-blood\", \"Pure-blood\\u00a0or\\u00a0half-blood\", \"Pure-blood\\u00a0or\\u00a0half-blood\", \"Pure-blood\\u00a0or\\u00a0half-blood\", \"Pure-blood\\u00a0or\\u00a0half-blood\", \"Pure-blood\\u00a0or\\u00a0half-blood\", \"Quarter-Veela\", \"Unknown\", \"Beauxbatons Academy of Magic\", \"Durmstrang Institute\", \"Gryffindor\", \"Hufflepuff\", \"Ravenclaw\", \"Slytherin\"], \"marker\": {\"colors\": [\"darkblue\", \"Gold\", \"Green\", \"darkblue\", \"DarkRed\", \"Green\", \"Gold\", \"Gold\", \"Gold\", \"darkblue\", \"#FFA15A\", \"#FFA15A\", \"DarkRed\", \"Green\", \"Green\", \"DarkRed\", \"DarkRed\", \"Green\", \"DarkRed\", \"DarkRed\", \"Gold\", \"DarkRed\", \"darkblue\", \"DarkRed\", \"DarkRed\", \"Green\", \"DarkRed\", \"Green\", \"Green\", \"DarkRed\", \"DarkRed\", \"Green\", \"Green\", \"Green\", \"Gold\", \"Green\", \"DarkRed\", \"Green\", \"darkblue\", \"DarkRed\", \"Green\", \"DarkRed\", \"DarkRed\", \"Green\", \"DarkRed\", \"Green\", \"darkblue\", \"DarkRed\", \"DarkRed\", \"DarkRed\", \"darkblue\", \"Green\", \"Gold\", \"Gold\", \"DarkRed\", \"DarkRed\", \"darkblue\", \"DarkRed\", \"DarkRed\", \"darkblue\", \"Green\", \"Green\", \"Gold\", \"DarkRed\", \"darkblue\", \"darkblue\", \"Gold\", \"DarkRed\", \"Green\", \"DarkRed\", \"darkblue\", \"DarkRed\", \"Green\", \"Green\", \"#19d3f3\", \"Green\", \"Green\", \"Green\", \"DarkRed\", \"DarkRed\", \"Gold\", \"DarkRed\", \"DarkRed\", \"DarkRed\", \"Green\", \"darkblue\", \"DarkRed\", \"#FFA15A\", \"Green\", \"darkblue\", \"darkblue\", \"DarkRed\", \"DarkRed\", \"darkblue\", \"Green\", \"Gold\", \"darkblue\", \"DarkRed\", \"DarkRed\", \"Gold\", \"darkblue\", \"Green\", \"DarkRed\", \"DarkRed\", \"Gold\", \"darkblue\", \"darkblue\", \"darkblue\", \"#FFA15A\", \"DarkRed\", \"DarkRed\", \"Gold\", \"Green\", \"DarkRed\", \"darkblue\", \"DarkRed\", \"Green\", \"#19d3f3\", \"DarkRed\", \"Gold\", \"darkblue\", \"Green\", \"#FFA15A\", \"DarkRed\", \"#FFA15A\", \"#19d3f3\", \"DarkRed\", \"Gold\", \"darkblue\", \"Green\"]}, \"name\": \"\", \"parents\": [\"Ravenclaw/Half-blood\", \"Hufflepuff/Half-blood\", \"Slytherin/Half-blood\", \"Ravenclaw/Pure-blood\\u00a0or\\u00a0half-blood\", \"Gryffindor/Pure-blood\", \"Slytherin/Pure-blood\", \"Hufflepuff/Pure-blood\\u00a0or\\u00a0half-blood\", \"Hufflepuff/Half-blood\", \"Hufflepuff/Pure-blood\", \"Ravenclaw/Part-Goblin\", \"Beauxbatons Academy of Magic/Quarter-Veela\", \"Beauxbatons Academy of Magic/Quarter-Veela\", \"Gryffindor/Pure-blood\", \"Slytherin/Half-blood\", \"Slytherin/Pure-blood\\u00a0or\\u00a0half-blood\", \"Gryffindor/Pure-blood\\u00a0or\\u00a0Half-blood\", \"Gryffindor/Half-blood\", \"Slytherin/Pure-blood\", \"Gryffindor/Pure-blood\", \"Gryffindor/Muggle-born\", \"Hufflepuff/Pure-blood\\u00a0or\\u00a0half-blood\", \"Gryffindor/Pure-blood\\u00a0or\\u00a0half-blood\", \"Ravenclaw/Half-blood\", \"Gryffindor/Muggle-born\", \"Gryffindor/Unknown\", \"Slytherin/Pure-blood\\u00a0or\\u00a0half-blood\", \"Gryffindor/Pure-blood\\u00a0or\\u00a0half-blood\", \"Slytherin/Pure-blood\\u00a0or\\u00a0half-blood\", \"Slytherin/Half-blood\", \"Gryffindor/Half-blood\", \"Gryffindor/Pure-blood\", \"Slytherin/Pure-blood\\u00a0or\\u00a0Half-blood\", \"Slytherin/Pure-blood\", \"Slytherin/Pure-blood\\u00a0or\\u00a0half-blood\", \"Hufflepuff/Pure-blood\", \"Slytherin/Pure-blood\\u00a0or\\u00a0half-blood\", \"Gryffindor/Pure-blood\", \"Slytherin/Pure-blood\\u00a0or\\u00a0Half-blood\", \"Ravenclaw/Pure-blood\\u00a0or\\u00a0half-blood\", \"Gryffindor/Muggle-born\", \"Slytherin/Pure-blood\\u00a0or\\u00a0half-blood\", \"Gryffindor/Pure-blood\", \"Gryffindor/Pure-blood\\u00a0or\\u00a0half-blood\", \"Slytherin/Pure-blood\", \"Gryffindor/Half-blood\", \"Slytherin/Pure-blood\", \"Ravenclaw/Muggle-born\\u00a0or\\u00a0half-blood[\", \"Gryffindor/Half-blood\\u00a0or\\u00a0pure-blood\", \"Gryffindor/Half-blood\", \"Gryffindor/Pure-blood\", \"Ravenclaw/Half-blood\", \"Slytherin/Pure-blood\", \"Hufflepuff/Pure-blood\\u00a0or\\u00a0half-blood\", \"Hufflepuff/Half-blood\", \"Gryffindor/Pure-blood\", \"Gryffindor/Pure-blood\", \"Ravenclaw/Half-blood\", \"Gryffindor/Pure-blood\", \"Gryffindor/Pure-blood or half-blood\", \"Ravenclaw/Pure-blood\\u00a0or\\u00a0half-blood\", \"Slytherin/Pure-blood\\u00a0or\\u00a0half-blood\", \"Slytherin/Pure-blood\", \"Hufflepuff/Pure-blood\\u00a0or\\u00a0half-blood\", \"Gryffindor/Pure-blood\", \"Ravenclaw/Half-blood\", \"Ravenclaw/Pure-blood\\u00a0or\\u00a0half-blood\", \"Hufflepuff/Pure-blood\\u00a0or\\u00a0half-blood\", \"Gryffindor/Muggle-born\", \"Slytherin/Pure-blood\\u00a0or\\u00a0half-blood\", \"Gryffindor/Half-blood\", \"Ravenclaw/Pure-blood or half-blood\", \"Gryffindor/Part-Human\\u00a0(Half-giant)\", \"Slytherin/Pure-blood\", \"Slytherin/Pure-blood\", \"Durmstrang Institute/Pure-blood\\u00a0or\\u00a0half-blood\", \"Slytherin/Half-blood\", \"Slytherin/Half-blood\", \"Slytherin/Pure-blood\\u00a0or\\u00a0half-blood\", \"Gryffindor/Pure-blood\", \"Gryffindor/Half-blood\", \"Hufflepuff/Muggle-born\", \"Gryffindor/Pure-blood\", \"Gryffindor/Pure-blood\\u00a0or\\u00a0half-blood\", \"Gryffindor/Muggle-born\", \"Slytherin/Pure-blood\", \"Ravenclaw/Pure-blood\\u00a0or\\u00a0half-blood\", \"Gryffindor/Pure-blood\\u00a0or\\u00a0half-blood\", \"Beauxbatons Academy of Magic/Part-Human\\u00a0(Half-giant)\", \"Slytherin/Pure-blood\\u00a0or\\u00a0half-blood\", \"Ravenclaw/Pure-blood\\u00a0or\\u00a0half-blood\", \"Ravenclaw/Half-blood\", \"Gryffindor/Half-blood\", \"Gryffindor/Pure-blood\", \"Ravenclaw/Muggle-born\", \"Slytherin/Pure-blood\", \"Hufflepuff/Half-blood\", \"Ravenclaw/Pure-blood\\u00a0or\\u00a0half-blood\", \"Gryffindor/Pure-blood\\u00a0or\\u00a0half-blood\", \"Gryffindor\", \"Hufflepuff\", \"Ravenclaw\", \"Slytherin\", \"Gryffindor\", \"Gryffindor\", \"Hufflepuff\", \"Ravenclaw\", \"Ravenclaw\", \"Ravenclaw\", \"Beauxbatons Academy of Magic\", \"Gryffindor\", \"Gryffindor\", \"Hufflepuff\", \"Slytherin\", \"Gryffindor\", \"Ravenclaw\", \"Gryffindor\", \"Slytherin\", \"Durmstrang Institute\", \"Gryffindor\", \"Hufflepuff\", \"Ravenclaw\", \"Slytherin\", \"Beauxbatons Academy of Magic\", \"Gryffindor\", \"\", \"\", \"\", \"\", \"\", \"\"], \"type\": \"treemap\", \"values\": [1, 1, 1, 1, 1, 1, 1, 1, 1, 1, 1, 1, 1, 1, 1, 1, 1, 1, 1, 1, 1, 1, 1, 1, 1, 1, 1, 1, 1, 1, 1, 1, 1, 1, 1, 1, 1, 1, 1, 1, 1, 1, 1, 1, 1, 1, 1, 1, 1, 1, 1, 1, 1, 1, 1, 1, 1, 1, 1, 1, 1, 1, 1, 1, 1, 1, 1, 1, 1, 1, 1, 1, 1, 1, 1, 1, 1, 1, 1, 1, 1, 1, 1, 1, 1, 1, 1, 1, 1, 1, 1, 1, 1, 1, 1, 1, 1, 1, 7, 4, 6, 5, 1, 5, 1, 1, 1, 1, 1, 1, 14, 2, 11, 1, 1, 1, 2, 1, 6, 5, 7, 10, 2, 1, 3, 1, 37, 12, 17, 28]}],                        {\"legend\": {\"tracegroupgap\": 0}, \"margin\": {\"t\": 60}, \"template\": {\"data\": {\"bar\": [{\"error_x\": {\"color\": \"#2a3f5f\"}, \"error_y\": {\"color\": \"#2a3f5f\"}, \"marker\": {\"line\": {\"color\": \"#E5ECF6\", \"width\": 0.5}}, \"type\": \"bar\"}], \"barpolar\": [{\"marker\": {\"line\": {\"color\": \"#E5ECF6\", \"width\": 0.5}}, \"type\": \"barpolar\"}], \"carpet\": [{\"aaxis\": {\"endlinecolor\": \"#2a3f5f\", \"gridcolor\": \"white\", \"linecolor\": \"white\", \"minorgridcolor\": \"white\", \"startlinecolor\": \"#2a3f5f\"}, \"baxis\": {\"endlinecolor\": \"#2a3f5f\", \"gridcolor\": \"white\", \"linecolor\": \"white\", \"minorgridcolor\": \"white\", \"startlinecolor\": \"#2a3f5f\"}, \"type\": \"carpet\"}], \"choropleth\": [{\"colorbar\": {\"outlinewidth\": 0, \"ticks\": \"\"}, \"type\": \"choropleth\"}], \"contour\": [{\"colorbar\": {\"outlinewidth\": 0, \"ticks\": \"\"}, \"colorscale\": [[0.0, \"#0d0887\"], [0.1111111111111111, \"#46039f\"], [0.2222222222222222, \"#7201a8\"], [0.3333333333333333, \"#9c179e\"], [0.4444444444444444, \"#bd3786\"], [0.5555555555555556, \"#d8576b\"], [0.6666666666666666, \"#ed7953\"], [0.7777777777777778, \"#fb9f3a\"], [0.8888888888888888, \"#fdca26\"], [1.0, \"#f0f921\"]], \"type\": \"contour\"}], \"contourcarpet\": [{\"colorbar\": {\"outlinewidth\": 0, \"ticks\": \"\"}, \"type\": \"contourcarpet\"}], \"heatmap\": [{\"colorbar\": {\"outlinewidth\": 0, \"ticks\": \"\"}, \"colorscale\": [[0.0, \"#0d0887\"], [0.1111111111111111, \"#46039f\"], [0.2222222222222222, \"#7201a8\"], [0.3333333333333333, \"#9c179e\"], [0.4444444444444444, \"#bd3786\"], [0.5555555555555556, \"#d8576b\"], [0.6666666666666666, \"#ed7953\"], [0.7777777777777778, \"#fb9f3a\"], [0.8888888888888888, \"#fdca26\"], [1.0, \"#f0f921\"]], \"type\": \"heatmap\"}], \"heatmapgl\": [{\"colorbar\": {\"outlinewidth\": 0, \"ticks\": \"\"}, \"colorscale\": [[0.0, \"#0d0887\"], [0.1111111111111111, \"#46039f\"], [0.2222222222222222, \"#7201a8\"], [0.3333333333333333, \"#9c179e\"], [0.4444444444444444, \"#bd3786\"], [0.5555555555555556, \"#d8576b\"], [0.6666666666666666, \"#ed7953\"], [0.7777777777777778, \"#fb9f3a\"], [0.8888888888888888, \"#fdca26\"], [1.0, \"#f0f921\"]], \"type\": \"heatmapgl\"}], \"histogram\": [{\"marker\": {\"colorbar\": {\"outlinewidth\": 0, \"ticks\": \"\"}}, \"type\": \"histogram\"}], \"histogram2d\": [{\"colorbar\": {\"outlinewidth\": 0, \"ticks\": \"\"}, \"colorscale\": [[0.0, \"#0d0887\"], [0.1111111111111111, \"#46039f\"], [0.2222222222222222, \"#7201a8\"], [0.3333333333333333, \"#9c179e\"], [0.4444444444444444, \"#bd3786\"], [0.5555555555555556, \"#d8576b\"], [0.6666666666666666, \"#ed7953\"], [0.7777777777777778, \"#fb9f3a\"], [0.8888888888888888, \"#fdca26\"], [1.0, \"#f0f921\"]], \"type\": \"histogram2d\"}], \"histogram2dcontour\": [{\"colorbar\": {\"outlinewidth\": 0, \"ticks\": \"\"}, \"colorscale\": [[0.0, \"#0d0887\"], [0.1111111111111111, \"#46039f\"], [0.2222222222222222, \"#7201a8\"], [0.3333333333333333, \"#9c179e\"], [0.4444444444444444, \"#bd3786\"], [0.5555555555555556, \"#d8576b\"], [0.6666666666666666, \"#ed7953\"], [0.7777777777777778, \"#fb9f3a\"], [0.8888888888888888, \"#fdca26\"], [1.0, \"#f0f921\"]], \"type\": \"histogram2dcontour\"}], \"mesh3d\": [{\"colorbar\": {\"outlinewidth\": 0, \"ticks\": \"\"}, \"type\": \"mesh3d\"}], \"parcoords\": [{\"line\": {\"colorbar\": {\"outlinewidth\": 0, \"ticks\": \"\"}}, \"type\": \"parcoords\"}], \"pie\": [{\"automargin\": true, \"type\": \"pie\"}], \"scatter\": [{\"marker\": {\"colorbar\": {\"outlinewidth\": 0, \"ticks\": \"\"}}, \"type\": \"scatter\"}], \"scatter3d\": [{\"line\": {\"colorbar\": {\"outlinewidth\": 0, \"ticks\": \"\"}}, \"marker\": {\"colorbar\": {\"outlinewidth\": 0, \"ticks\": \"\"}}, \"type\": \"scatter3d\"}], \"scattercarpet\": [{\"marker\": {\"colorbar\": {\"outlinewidth\": 0, \"ticks\": \"\"}}, \"type\": \"scattercarpet\"}], \"scattergeo\": [{\"marker\": {\"colorbar\": {\"outlinewidth\": 0, \"ticks\": \"\"}}, \"type\": \"scattergeo\"}], \"scattergl\": [{\"marker\": {\"colorbar\": {\"outlinewidth\": 0, \"ticks\": \"\"}}, \"type\": \"scattergl\"}], \"scattermapbox\": [{\"marker\": {\"colorbar\": {\"outlinewidth\": 0, \"ticks\": \"\"}}, \"type\": \"scattermapbox\"}], \"scatterpolar\": [{\"marker\": {\"colorbar\": {\"outlinewidth\": 0, \"ticks\": \"\"}}, \"type\": \"scatterpolar\"}], \"scatterpolargl\": [{\"marker\": {\"colorbar\": {\"outlinewidth\": 0, \"ticks\": \"\"}}, \"type\": \"scatterpolargl\"}], \"scatterternary\": [{\"marker\": {\"colorbar\": {\"outlinewidth\": 0, \"ticks\": \"\"}}, \"type\": \"scatterternary\"}], \"surface\": [{\"colorbar\": {\"outlinewidth\": 0, \"ticks\": \"\"}, \"colorscale\": [[0.0, \"#0d0887\"], [0.1111111111111111, \"#46039f\"], [0.2222222222222222, \"#7201a8\"], [0.3333333333333333, \"#9c179e\"], [0.4444444444444444, \"#bd3786\"], [0.5555555555555556, \"#d8576b\"], [0.6666666666666666, \"#ed7953\"], [0.7777777777777778, \"#fb9f3a\"], [0.8888888888888888, \"#fdca26\"], [1.0, \"#f0f921\"]], \"type\": \"surface\"}], \"table\": [{\"cells\": {\"fill\": {\"color\": \"#EBF0F8\"}, \"line\": {\"color\": \"white\"}}, \"header\": {\"fill\": {\"color\": \"#C8D4E3\"}, \"line\": {\"color\": \"white\"}}, \"type\": \"table\"}]}, \"layout\": {\"annotationdefaults\": {\"arrowcolor\": \"#2a3f5f\", \"arrowhead\": 0, \"arrowwidth\": 1}, \"autotypenumbers\": \"strict\", \"coloraxis\": {\"colorbar\": {\"outlinewidth\": 0, \"ticks\": \"\"}}, \"colorscale\": {\"diverging\": [[0, \"#8e0152\"], [0.1, \"#c51b7d\"], [0.2, \"#de77ae\"], [0.3, \"#f1b6da\"], [0.4, \"#fde0ef\"], [0.5, \"#f7f7f7\"], [0.6, \"#e6f5d0\"], [0.7, \"#b8e186\"], [0.8, \"#7fbc41\"], [0.9, \"#4d9221\"], [1, \"#276419\"]], \"sequential\": [[0.0, \"#0d0887\"], [0.1111111111111111, \"#46039f\"], [0.2222222222222222, \"#7201a8\"], [0.3333333333333333, \"#9c179e\"], [0.4444444444444444, \"#bd3786\"], [0.5555555555555556, \"#d8576b\"], [0.6666666666666666, \"#ed7953\"], [0.7777777777777778, \"#fb9f3a\"], [0.8888888888888888, \"#fdca26\"], [1.0, \"#f0f921\"]], \"sequentialminus\": [[0.0, \"#0d0887\"], [0.1111111111111111, \"#46039f\"], [0.2222222222222222, \"#7201a8\"], [0.3333333333333333, \"#9c179e\"], [0.4444444444444444, \"#bd3786\"], [0.5555555555555556, \"#d8576b\"], [0.6666666666666666, \"#ed7953\"], [0.7777777777777778, \"#fb9f3a\"], [0.8888888888888888, \"#fdca26\"], [1.0, \"#f0f921\"]]}, \"colorway\": [\"#636efa\", \"#EF553B\", \"#00cc96\", \"#ab63fa\", \"#FFA15A\", \"#19d3f3\", \"#FF6692\", \"#B6E880\", \"#FF97FF\", \"#FECB52\"], \"font\": {\"color\": \"#2a3f5f\"}, \"geo\": {\"bgcolor\": \"white\", \"lakecolor\": \"white\", \"landcolor\": \"#E5ECF6\", \"showlakes\": true, \"showland\": true, \"subunitcolor\": \"white\"}, \"hoverlabel\": {\"align\": \"left\"}, \"hovermode\": \"closest\", \"mapbox\": {\"style\": \"light\"}, \"paper_bgcolor\": \"white\", \"plot_bgcolor\": \"#E5ECF6\", \"polar\": {\"angularaxis\": {\"gridcolor\": \"white\", \"linecolor\": \"white\", \"ticks\": \"\"}, \"bgcolor\": \"#E5ECF6\", \"radialaxis\": {\"gridcolor\": \"white\", \"linecolor\": \"white\", \"ticks\": \"\"}}, \"scene\": {\"xaxis\": {\"backgroundcolor\": \"#E5ECF6\", \"gridcolor\": \"white\", \"gridwidth\": 2, \"linecolor\": \"white\", \"showbackground\": true, \"ticks\": \"\", \"zerolinecolor\": \"white\"}, \"yaxis\": {\"backgroundcolor\": \"#E5ECF6\", \"gridcolor\": \"white\", \"gridwidth\": 2, \"linecolor\": \"white\", \"showbackground\": true, \"ticks\": \"\", \"zerolinecolor\": \"white\"}, \"zaxis\": {\"backgroundcolor\": \"#E5ECF6\", \"gridcolor\": \"white\", \"gridwidth\": 2, \"linecolor\": \"white\", \"showbackground\": true, \"ticks\": \"\", \"zerolinecolor\": \"white\"}}, \"shapedefaults\": {\"line\": {\"color\": \"#2a3f5f\"}}, \"ternary\": {\"aaxis\": {\"gridcolor\": \"white\", \"linecolor\": \"white\", \"ticks\": \"\"}, \"baxis\": {\"gridcolor\": \"white\", \"linecolor\": \"white\", \"ticks\": \"\"}, \"bgcolor\": \"#E5ECF6\", \"caxis\": {\"gridcolor\": \"white\", \"linecolor\": \"white\", \"ticks\": \"\"}}, \"title\": {\"x\": 0.05}, \"xaxis\": {\"automargin\": true, \"gridcolor\": \"white\", \"linecolor\": \"white\", \"ticks\": \"\", \"title\": {\"standoff\": 15}, \"zerolinecolor\": \"white\", \"zerolinewidth\": 2}, \"yaxis\": {\"automargin\": true, \"gridcolor\": \"white\", \"linecolor\": \"white\", \"ticks\": \"\", \"title\": {\"standoff\": 15}, \"zerolinecolor\": \"white\", \"zerolinewidth\": 2}}}},                        {\"responsive\": true}                    ).then(function(){\n",
       "                            \n",
       "var gd = document.getElementById('87807461-0b89-4af6-91e9-27ef104fd09a');\n",
       "var x = new MutationObserver(function (mutations, observer) {{\n",
       "        var display = window.getComputedStyle(gd).display;\n",
       "        if (!display || display === 'none') {{\n",
       "            console.log([gd, 'removed!']);\n",
       "            Plotly.purge(gd);\n",
       "            observer.disconnect();\n",
       "        }}\n",
       "}});\n",
       "\n",
       "// Listen for the removal of the full notebook cells\n",
       "var notebookContainer = gd.closest('#notebook-container');\n",
       "if (notebookContainer) {{\n",
       "    x.observe(notebookContainer, {childList: true});\n",
       "}}\n",
       "\n",
       "// Listen for the clearing of the current output cell\n",
       "var outputEl = gd.closest('.output');\n",
       "if (outputEl) {{\n",
       "    x.observe(outputEl, {childList: true});\n",
       "}}\n",
       "\n",
       "                        })                };                });            </script>        </div>"
      ]
     },
     "metadata": {},
     "output_type": "display_data"
    }
   ],
   "source": [
    "fig = px.treemap(df2, path=['House', 'Blood status', 'Name'], color='House',\n",
    "                 color_discrete_map={'Gryffindor':'DarkRed', 'Slytherin':'Green', 'Hufflepuff':'Gold', 'Ravenclaw':'darkblue'})\n",
    "fig.show()"
   ]
  },
  {
   "cell_type": "markdown",
   "metadata": {},
   "source": [
    "\n",
    "#### Unas recomendaciones para mejorar la visualización pueden ser:\n",
    "\n",
    "- Debido al formato de tipado fuerte de python, no se distinguen términos como \"half blood\" de \"Half blood\" por tanto los divide como si fueran categorías distintas, cuando no lo son. Habría que realizar modificaciones en el dataset y dataframe.\n",
    "\n",
    "- Agrupar las 4 casas en un conjunto superior llamado 'Hogwarts' y que este se pueda diferenciar de las otras dos escuelas que se muestran en la visualización. Con el formato actual, ambas escuelas se muestran del mismo nuvel de las casas lo cual no es representativo acorde a la saga.\n",
    "\n",
    "\n",
    "### El dataset empleado para realizar la actividad fue tomado de: https://www.kaggle.com/gulsahdemiryurek/harry-potter-dataset"
   ]
  },
  {
   "cell_type": "code",
   "execution_count": null,
   "metadata": {},
   "outputs": [],
   "source": []
  }
 ],
 "metadata": {
  "kernelspec": {
   "display_name": "Python 3",
   "language": "python",
   "name": "python3"
  },
  "language_info": {
   "codemirror_mode": {
    "name": "ipython",
    "version": 3
   },
   "file_extension": ".py",
   "mimetype": "text/x-python",
   "name": "python",
   "nbconvert_exporter": "python",
   "pygments_lexer": "ipython3",
   "version": "3.8.5"
  }
 },
 "nbformat": 4,
 "nbformat_minor": 4
}
